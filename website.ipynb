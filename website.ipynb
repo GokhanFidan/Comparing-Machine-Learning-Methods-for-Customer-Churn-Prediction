{
 "cells": [
  {
   "cell_type": "code",
   "execution_count": 1,
   "id": "83a273ef",
   "metadata": {},
   "outputs": [],
   "source": [
    "%matplotlib inline\n",
    "\n",
    "import pandas as pd\n",
    "import numpy as np\n",
    "import seaborn as sns\n",
    "import matplotlib.pyplot as plt\n",
    "import scipy\n",
    "import warnings\n",
    "from datetime import datetime\n",
    "warnings.filterwarnings('ignore')\n",
    "from sklearn.naive_bayes import MultinomialNB\n",
    "from sklearn.feature_extraction.text import CountVectorizer\n",
    "from sklearn.metrics import classification_report\n",
    "from sklearn.model_selection import train_test_split\n",
    "from sklearn.metrics import mean_squared_error\n",
    "from sklearn.metrics import accuracy_score\n",
    "from sklearn.metrics import confusion_matrix\n",
    "from sklearn.model_selection import cross_val_score\n",
    "from sklearn.preprocessing import LabelEncoder\n",
    "from sklearn import metrics\n",
    "from sklearn import preprocessing\n",
    "from sklearn.model_selection import KFold\n",
    "from sklearn.linear_model import LinearRegression\n",
    "from sklearn.preprocessing import PolynomialFeatures\n",
    "from sklearn.tree import DecisionTreeRegressor \n",
    "from sklearn.tree import DecisionTreeClassifier\n",
    "from sklearn.ensemble import RandomForestRegressor\n",
    "from sklearn.model_selection import GridSearchCV\n",
    "from sklearn.neighbors import KNeighborsRegressor\n",
    "from sklearn.neighbors import KNeighborsClassifier\n",
    "from sklearn import tree\n",
    "from sklearn.model_selection import LeaveOneOut\n",
    "from sklearn.linear_model import Ridge, Lasso\n",
    "from sklearn.pipeline import make_pipeline\n",
    "from sklearn.pipeline import Pipeline\n",
    "from sklearn.linear_model import LogisticRegression\n",
    "from sklearn.ensemble import RandomForestClassifier\n",
    "from sklearn.ensemble import GradientBoostingRegressor\n",
    "from xgboost import XGBRegressor\n",
    "from sklearn.metrics import confusion_matrix, classification_report\n",
    "from sklearn.metrics import precision_score, recall_score, f1_score, cohen_kappa_score\n",
    "from sklearn.metrics import plot_roc_curve, mean_absolute_percentage_error, accuracy_score\n",
    "from sklearn.svm import SVC\n",
    "from sklearn.naive_bayes import GaussianNB"
   ]
  },
  {
   "cell_type": "code",
   "execution_count": 2,
   "id": "d8747c30",
   "metadata": {},
   "outputs": [
    {
     "data": {
      "text/html": [
       "<div>\n",
       "<style scoped>\n",
       "    .dataframe tbody tr th:only-of-type {\n",
       "        vertical-align: middle;\n",
       "    }\n",
       "\n",
       "    .dataframe tbody tr th {\n",
       "        vertical-align: top;\n",
       "    }\n",
       "\n",
       "    .dataframe thead th {\n",
       "        text-align: right;\n",
       "    }\n",
       "</style>\n",
       "<table border=\"1\" class=\"dataframe\">\n",
       "  <thead>\n",
       "    <tr style=\"text-align: right;\">\n",
       "      <th></th>\n",
       "      <th>customer_id</th>\n",
       "      <th>Name</th>\n",
       "      <th>age</th>\n",
       "      <th>gender</th>\n",
       "      <th>security_no</th>\n",
       "      <th>region_category</th>\n",
       "      <th>membership_category</th>\n",
       "      <th>joining_date</th>\n",
       "      <th>joined_through_referral</th>\n",
       "      <th>referral_id</th>\n",
       "      <th>...</th>\n",
       "      <th>avg_time_spent</th>\n",
       "      <th>avg_transaction_value</th>\n",
       "      <th>avg_frequency_login_days</th>\n",
       "      <th>points_in_wallet</th>\n",
       "      <th>used_special_discount</th>\n",
       "      <th>offer_application_preference</th>\n",
       "      <th>past_complaint</th>\n",
       "      <th>complaint_status</th>\n",
       "      <th>feedback</th>\n",
       "      <th>churn_risk_score</th>\n",
       "    </tr>\n",
       "  </thead>\n",
       "  <tbody>\n",
       "    <tr>\n",
       "      <th>0</th>\n",
       "      <td>fffe4300490044003600300030003800</td>\n",
       "      <td>Pattie Morrisey</td>\n",
       "      <td>18</td>\n",
       "      <td>F</td>\n",
       "      <td>XW0DQ7H</td>\n",
       "      <td>Village</td>\n",
       "      <td>Platinum Membership</td>\n",
       "      <td>2017-08-17</td>\n",
       "      <td>No</td>\n",
       "      <td>xxxxxxxx</td>\n",
       "      <td>...</td>\n",
       "      <td>300.63</td>\n",
       "      <td>53005.25</td>\n",
       "      <td>17.0</td>\n",
       "      <td>781.75</td>\n",
       "      <td>Yes</td>\n",
       "      <td>Yes</td>\n",
       "      <td>No</td>\n",
       "      <td>Not Applicable</td>\n",
       "      <td>Products always in Stock</td>\n",
       "      <td>2</td>\n",
       "    </tr>\n",
       "    <tr>\n",
       "      <th>1</th>\n",
       "      <td>fffe43004900440032003100300035003700</td>\n",
       "      <td>Traci Peery</td>\n",
       "      <td>32</td>\n",
       "      <td>F</td>\n",
       "      <td>5K0N3X1</td>\n",
       "      <td>City</td>\n",
       "      <td>Premium Membership</td>\n",
       "      <td>2017-08-28</td>\n",
       "      <td>?</td>\n",
       "      <td>CID21329</td>\n",
       "      <td>...</td>\n",
       "      <td>306.34</td>\n",
       "      <td>12838.38</td>\n",
       "      <td>10.0</td>\n",
       "      <td>NaN</td>\n",
       "      <td>Yes</td>\n",
       "      <td>No</td>\n",
       "      <td>Yes</td>\n",
       "      <td>Solved</td>\n",
       "      <td>Quality Customer Care</td>\n",
       "      <td>1</td>\n",
       "    </tr>\n",
       "    <tr>\n",
       "      <th>2</th>\n",
       "      <td>fffe4300490044003100390032003600</td>\n",
       "      <td>Merideth Mcmeen</td>\n",
       "      <td>44</td>\n",
       "      <td>F</td>\n",
       "      <td>1F2TCL3</td>\n",
       "      <td>Town</td>\n",
       "      <td>No Membership</td>\n",
       "      <td>2016-11-11</td>\n",
       "      <td>Yes</td>\n",
       "      <td>CID12313</td>\n",
       "      <td>...</td>\n",
       "      <td>516.16</td>\n",
       "      <td>21027.00</td>\n",
       "      <td>22.0</td>\n",
       "      <td>500.69</td>\n",
       "      <td>No</td>\n",
       "      <td>Yes</td>\n",
       "      <td>Yes</td>\n",
       "      <td>Solved in Follow-up</td>\n",
       "      <td>Poor Website</td>\n",
       "      <td>5</td>\n",
       "    </tr>\n",
       "    <tr>\n",
       "      <th>3</th>\n",
       "      <td>fffe43004900440036003000330031003600</td>\n",
       "      <td>Eufemia Cardwell</td>\n",
       "      <td>37</td>\n",
       "      <td>M</td>\n",
       "      <td>VJGJ33N</td>\n",
       "      <td>City</td>\n",
       "      <td>No Membership</td>\n",
       "      <td>2016-10-29</td>\n",
       "      <td>Yes</td>\n",
       "      <td>CID3793</td>\n",
       "      <td>...</td>\n",
       "      <td>53.27</td>\n",
       "      <td>25239.56</td>\n",
       "      <td>6.0</td>\n",
       "      <td>567.66</td>\n",
       "      <td>No</td>\n",
       "      <td>Yes</td>\n",
       "      <td>Yes</td>\n",
       "      <td>Unsolved</td>\n",
       "      <td>Poor Website</td>\n",
       "      <td>5</td>\n",
       "    </tr>\n",
       "    <tr>\n",
       "      <th>4</th>\n",
       "      <td>fffe43004900440031003900350030003600</td>\n",
       "      <td>Meghan Kosak</td>\n",
       "      <td>31</td>\n",
       "      <td>F</td>\n",
       "      <td>SVZXCWB</td>\n",
       "      <td>City</td>\n",
       "      <td>No Membership</td>\n",
       "      <td>2017-09-12</td>\n",
       "      <td>No</td>\n",
       "      <td>xxxxxxxx</td>\n",
       "      <td>...</td>\n",
       "      <td>113.13</td>\n",
       "      <td>24483.66</td>\n",
       "      <td>16.0</td>\n",
       "      <td>663.06</td>\n",
       "      <td>No</td>\n",
       "      <td>Yes</td>\n",
       "      <td>Yes</td>\n",
       "      <td>Solved</td>\n",
       "      <td>Poor Website</td>\n",
       "      <td>5</td>\n",
       "    </tr>\n",
       "  </tbody>\n",
       "</table>\n",
       "<p>5 rows × 25 columns</p>\n",
       "</div>"
      ],
      "text/plain": [
       "                            customer_id              Name  age gender  \\\n",
       "0      fffe4300490044003600300030003800   Pattie Morrisey   18      F   \n",
       "1  fffe43004900440032003100300035003700       Traci Peery   32      F   \n",
       "2      fffe4300490044003100390032003600   Merideth Mcmeen   44      F   \n",
       "3  fffe43004900440036003000330031003600  Eufemia Cardwell   37      M   \n",
       "4  fffe43004900440031003900350030003600      Meghan Kosak   31      F   \n",
       "\n",
       "  security_no region_category  membership_category joining_date  \\\n",
       "0     XW0DQ7H         Village  Platinum Membership   2017-08-17   \n",
       "1     5K0N3X1            City   Premium Membership   2017-08-28   \n",
       "2     1F2TCL3            Town        No Membership   2016-11-11   \n",
       "3     VJGJ33N            City        No Membership   2016-10-29   \n",
       "4     SVZXCWB            City        No Membership   2017-09-12   \n",
       "\n",
       "  joined_through_referral referral_id  ... avg_time_spent  \\\n",
       "0                      No    xxxxxxxx  ...         300.63   \n",
       "1                       ?    CID21329  ...         306.34   \n",
       "2                     Yes    CID12313  ...         516.16   \n",
       "3                     Yes     CID3793  ...          53.27   \n",
       "4                      No    xxxxxxxx  ...         113.13   \n",
       "\n",
       "  avg_transaction_value avg_frequency_login_days points_in_wallet  \\\n",
       "0              53005.25                     17.0           781.75   \n",
       "1              12838.38                     10.0              NaN   \n",
       "2              21027.00                     22.0           500.69   \n",
       "3              25239.56                      6.0           567.66   \n",
       "4              24483.66                     16.0           663.06   \n",
       "\n",
       "   used_special_discount  offer_application_preference  past_complaint  \\\n",
       "0                    Yes                           Yes              No   \n",
       "1                    Yes                            No             Yes   \n",
       "2                     No                           Yes             Yes   \n",
       "3                     No                           Yes             Yes   \n",
       "4                     No                           Yes             Yes   \n",
       "\n",
       "      complaint_status                  feedback churn_risk_score  \n",
       "0       Not Applicable  Products always in Stock                2  \n",
       "1               Solved     Quality Customer Care                1  \n",
       "2  Solved in Follow-up              Poor Website                5  \n",
       "3             Unsolved              Poor Website                5  \n",
       "4               Solved              Poor Website                5  \n",
       "\n",
       "[5 rows x 25 columns]"
      ]
     },
     "execution_count": 2,
     "metadata": {},
     "output_type": "execute_result"
    }
   ],
   "source": [
    "data = pd.read_csv('website.csv')\n",
    "data.head()"
   ]
  },
  {
   "cell_type": "markdown",
   "id": "03e06bd0",
   "metadata": {},
   "source": [
    "# DATA UNDERSTANDING"
   ]
  },
  {
   "cell_type": "code",
   "execution_count": 3,
   "id": "ec93f8c8",
   "metadata": {},
   "outputs": [
    {
     "data": {
      "text/plain": [
       "(36992, 25)"
      ]
     },
     "execution_count": 3,
     "metadata": {},
     "output_type": "execute_result"
    }
   ],
   "source": [
    "data.shape"
   ]
  },
  {
   "cell_type": "code",
   "execution_count": 4,
   "id": "f673cd92",
   "metadata": {},
   "outputs": [
    {
     "name": "stdout",
     "output_type": "stream",
     "text": [
      "<class 'pandas.core.frame.DataFrame'>\n",
      "RangeIndex: 36992 entries, 0 to 36991\n",
      "Data columns (total 25 columns):\n",
      " #   Column                        Non-Null Count  Dtype  \n",
      "---  ------                        --------------  -----  \n",
      " 0   customer_id                   36992 non-null  object \n",
      " 1   Name                          36992 non-null  object \n",
      " 2   age                           36992 non-null  int64  \n",
      " 3   gender                        36992 non-null  object \n",
      " 4   security_no                   36992 non-null  object \n",
      " 5   region_category               31564 non-null  object \n",
      " 6   membership_category           36992 non-null  object \n",
      " 7   joining_date                  36992 non-null  object \n",
      " 8   joined_through_referral       36992 non-null  object \n",
      " 9   referral_id                   36992 non-null  object \n",
      " 10  preferred_offer_types         36704 non-null  object \n",
      " 11  medium_of_operation           36992 non-null  object \n",
      " 12  internet_option               36992 non-null  object \n",
      " 13  last_visit_time               36992 non-null  object \n",
      " 14  days_since_last_login         36992 non-null  int64  \n",
      " 15  avg_time_spent                36992 non-null  float64\n",
      " 16  avg_transaction_value         36992 non-null  float64\n",
      " 17  avg_frequency_login_days      36992 non-null  object \n",
      " 18  points_in_wallet              33549 non-null  float64\n",
      " 19  used_special_discount         36992 non-null  object \n",
      " 20  offer_application_preference  36992 non-null  object \n",
      " 21  past_complaint                36992 non-null  object \n",
      " 22  complaint_status              36992 non-null  object \n",
      " 23  feedback                      36992 non-null  object \n",
      " 24  churn_risk_score              36992 non-null  int64  \n",
      "dtypes: float64(3), int64(3), object(19)\n",
      "memory usage: 7.1+ MB\n"
     ]
    }
   ],
   "source": [
    "data.info()"
   ]
  },
  {
   "cell_type": "code",
   "execution_count": 5,
   "id": "880f56f5",
   "metadata": {},
   "outputs": [
    {
     "data": {
      "text/html": [
       "<div>\n",
       "<style scoped>\n",
       "    .dataframe tbody tr th:only-of-type {\n",
       "        vertical-align: middle;\n",
       "    }\n",
       "\n",
       "    .dataframe tbody tr th {\n",
       "        vertical-align: top;\n",
       "    }\n",
       "\n",
       "    .dataframe thead th {\n",
       "        text-align: right;\n",
       "    }\n",
       "</style>\n",
       "<table border=\"1\" class=\"dataframe\">\n",
       "  <thead>\n",
       "    <tr style=\"text-align: right;\">\n",
       "      <th></th>\n",
       "      <th>count</th>\n",
       "      <th>mean</th>\n",
       "      <th>std</th>\n",
       "      <th>min</th>\n",
       "      <th>25%</th>\n",
       "      <th>50%</th>\n",
       "      <th>75%</th>\n",
       "      <th>max</th>\n",
       "    </tr>\n",
       "  </thead>\n",
       "  <tbody>\n",
       "    <tr>\n",
       "      <th>age</th>\n",
       "      <td>36992.0</td>\n",
       "      <td>37.118161</td>\n",
       "      <td>15.867412</td>\n",
       "      <td>10.000000</td>\n",
       "      <td>23.0000</td>\n",
       "      <td>37.000</td>\n",
       "      <td>51.000</td>\n",
       "      <td>64.000000</td>\n",
       "    </tr>\n",
       "    <tr>\n",
       "      <th>days_since_last_login</th>\n",
       "      <td>36992.0</td>\n",
       "      <td>-41.915576</td>\n",
       "      <td>228.819900</td>\n",
       "      <td>-999.000000</td>\n",
       "      <td>8.0000</td>\n",
       "      <td>12.000</td>\n",
       "      <td>16.000</td>\n",
       "      <td>26.000000</td>\n",
       "    </tr>\n",
       "    <tr>\n",
       "      <th>avg_time_spent</th>\n",
       "      <td>36992.0</td>\n",
       "      <td>243.472334</td>\n",
       "      <td>398.289149</td>\n",
       "      <td>-2814.109110</td>\n",
       "      <td>60.1025</td>\n",
       "      <td>161.765</td>\n",
       "      <td>356.515</td>\n",
       "      <td>3235.578521</td>\n",
       "    </tr>\n",
       "    <tr>\n",
       "      <th>avg_transaction_value</th>\n",
       "      <td>36992.0</td>\n",
       "      <td>29271.194003</td>\n",
       "      <td>19444.806226</td>\n",
       "      <td>800.460000</td>\n",
       "      <td>14177.5400</td>\n",
       "      <td>27554.485</td>\n",
       "      <td>40855.110</td>\n",
       "      <td>99914.050000</td>\n",
       "    </tr>\n",
       "    <tr>\n",
       "      <th>points_in_wallet</th>\n",
       "      <td>33549.0</td>\n",
       "      <td>686.882199</td>\n",
       "      <td>194.063624</td>\n",
       "      <td>-760.661236</td>\n",
       "      <td>616.1500</td>\n",
       "      <td>697.620</td>\n",
       "      <td>763.950</td>\n",
       "      <td>2069.069761</td>\n",
       "    </tr>\n",
       "    <tr>\n",
       "      <th>churn_risk_score</th>\n",
       "      <td>36992.0</td>\n",
       "      <td>3.463397</td>\n",
       "      <td>1.409661</td>\n",
       "      <td>-1.000000</td>\n",
       "      <td>3.0000</td>\n",
       "      <td>4.000</td>\n",
       "      <td>5.000</td>\n",
       "      <td>5.000000</td>\n",
       "    </tr>\n",
       "  </tbody>\n",
       "</table>\n",
       "</div>"
      ],
      "text/plain": [
       "                         count          mean           std          min  \\\n",
       "age                    36992.0     37.118161     15.867412    10.000000   \n",
       "days_since_last_login  36992.0    -41.915576    228.819900  -999.000000   \n",
       "avg_time_spent         36992.0    243.472334    398.289149 -2814.109110   \n",
       "avg_transaction_value  36992.0  29271.194003  19444.806226   800.460000   \n",
       "points_in_wallet       33549.0    686.882199    194.063624  -760.661236   \n",
       "churn_risk_score       36992.0      3.463397      1.409661    -1.000000   \n",
       "\n",
       "                              25%        50%        75%           max  \n",
       "age                       23.0000     37.000     51.000     64.000000  \n",
       "days_since_last_login      8.0000     12.000     16.000     26.000000  \n",
       "avg_time_spent            60.1025    161.765    356.515   3235.578521  \n",
       "avg_transaction_value  14177.5400  27554.485  40855.110  99914.050000  \n",
       "points_in_wallet         616.1500    697.620    763.950   2069.069761  \n",
       "churn_risk_score           3.0000      4.000      5.000      5.000000  "
      ]
     },
     "execution_count": 5,
     "metadata": {},
     "output_type": "execute_result"
    }
   ],
   "source": [
    "data.describe().T"
   ]
  },
  {
   "cell_type": "code",
   "execution_count": 6,
   "id": "dcde87a7",
   "metadata": {},
   "outputs": [
    {
     "data": {
      "text/plain": [
       "customer_id                      object\n",
       "Name                             object\n",
       "age                               int64\n",
       "gender                           object\n",
       "security_no                      object\n",
       "region_category                  object\n",
       "membership_category              object\n",
       "joining_date                     object\n",
       "joined_through_referral          object\n",
       "referral_id                      object\n",
       "preferred_offer_types            object\n",
       "medium_of_operation              object\n",
       "internet_option                  object\n",
       "last_visit_time                  object\n",
       "days_since_last_login             int64\n",
       "avg_time_spent                  float64\n",
       "avg_transaction_value           float64\n",
       "avg_frequency_login_days         object\n",
       "points_in_wallet                float64\n",
       "used_special_discount            object\n",
       "offer_application_preference     object\n",
       "past_complaint                   object\n",
       "complaint_status                 object\n",
       "feedback                         object\n",
       "churn_risk_score                  int64\n",
       "dtype: object"
      ]
     },
     "execution_count": 6,
     "metadata": {},
     "output_type": "execute_result"
    }
   ],
   "source": [
    "data.dtypes"
   ]
  },
  {
   "cell_type": "code",
   "execution_count": 7,
   "id": "483c7818",
   "metadata": {},
   "outputs": [
    {
     "name": "stdout",
     "output_type": "stream",
     "text": [
      "F          18490\n",
      "M          18443\n",
      "Unknown       59\n",
      "Name: gender, dtype: int64\n",
      "\n",
      "Town       14128\n",
      "City       12737\n",
      "Village     4699\n",
      "Name: region_category, dtype: int64\n",
      "\n",
      "Basic Membership       7724\n",
      "No Membership          7692\n",
      "Gold Membership        6795\n",
      "Silver Membership      5988\n",
      "Premium Membership     4455\n",
      "Platinum Membership    4338\n",
      "Name: membership_category, dtype: int64\n",
      "\n",
      "Yes    20440\n",
      "No     16552\n",
      "Name: offer_application_preference, dtype: int64\n",
      "\n",
      "No     18602\n",
      "Yes    18390\n",
      "Name: past_complaint, dtype: int64\n",
      "\n",
      "Not Applicable              18602\n",
      "Unsolved                     4644\n",
      "Solved                       4619\n",
      "Solved in Follow-up          4577\n",
      "No Information Available     4550\n",
      "Name: complaint_status, dtype: int64\n",
      "\n",
      "Poor Product Quality        6350\n",
      "No reason specified         6290\n",
      "Too many ads                6279\n",
      "Poor Website                6271\n",
      "Poor Customer Service       6252\n",
      "Reasonable Price            1417\n",
      "User Friendly Website       1391\n",
      "Products always in Stock    1382\n",
      "Quality Customer Care       1360\n",
      "Name: feedback, dtype: int64\n",
      "\n",
      "No     15839\n",
      "Yes    15715\n",
      "?       5438\n",
      "Name: joined_through_referral, dtype: int64\n"
     ]
    }
   ],
   "source": [
    "# Check the frequency distribution of categorical variables\n",
    "print(f\"{data['gender'].value_counts()}\"+\"\\n\")\n",
    "print(f\"{data['region_category'].value_counts()}\"+\"\\n\")\n",
    "print(f\"{data['membership_category'].value_counts()}\"+\"\\n\")\n",
    "print(f\"{data['offer_application_preference'].value_counts()}\"+\"\\n\")\n",
    "print(f\"{data['past_complaint'].value_counts()}\"+\"\\n\")\n",
    "print(f\"{data['complaint_status'].value_counts()}\"+\"\\n\")\n",
    "print(f\"{data['feedback'].value_counts()}\"+\"\\n\")\n",
    "print(data['joined_through_referral'].value_counts())"
   ]
  },
  {
   "cell_type": "code",
   "execution_count": 8,
   "id": "a10405e5",
   "metadata": {},
   "outputs": [
    {
     "data": {
      "text/plain": [
       "customer_id                        0\n",
       "Name                               0\n",
       "age                                0\n",
       "gender                             0\n",
       "security_no                        0\n",
       "region_category                 5428\n",
       "membership_category                0\n",
       "joining_date                       0\n",
       "joined_through_referral            0\n",
       "referral_id                        0\n",
       "preferred_offer_types            288\n",
       "medium_of_operation                0\n",
       "internet_option                    0\n",
       "last_visit_time                    0\n",
       "days_since_last_login              0\n",
       "avg_time_spent                     0\n",
       "avg_transaction_value              0\n",
       "avg_frequency_login_days           0\n",
       "points_in_wallet                3443\n",
       "used_special_discount              0\n",
       "offer_application_preference       0\n",
       "past_complaint                     0\n",
       "complaint_status                   0\n",
       "feedback                           0\n",
       "churn_risk_score                   0\n",
       "dtype: int64"
      ]
     },
     "execution_count": 8,
     "metadata": {},
     "output_type": "execute_result"
    }
   ],
   "source": [
    "# Check for missing values\n",
    "data.isnull().sum()"
   ]
  },
  {
   "cell_type": "code",
   "execution_count": 9,
   "id": "f7a8fe11",
   "metadata": {},
   "outputs": [
    {
     "data": {
      "text/plain": [
       "(28373, 25)"
      ]
     },
     "execution_count": 9,
     "metadata": {},
     "output_type": "execute_result"
    }
   ],
   "source": [
    "data=data.dropna()\n",
    "data.shape"
   ]
  },
  {
   "cell_type": "code",
   "execution_count": 10,
   "id": "f720bcf5",
   "metadata": {},
   "outputs": [
    {
     "data": {
      "image/png": "[encoded data removed]",
      "text/plain": [
       "<Figure size 432x288 with 1 Axes>"
      ]
     },
     "metadata": {
      "needs_background": "light"
     },
     "output_type": "display_data"
    }
   ],
   "source": [
    "# Plot a boxplot of age by churn\n",
    "sns.boxplot(x='churn_risk_score', y='age', data=data)\n",
    "plt.title(\"Box plot of Age by Churn Risk Score\")\n",
    "plt.show()"
   ]
  },
  {
   "cell_type": "code",
   "execution_count": 11,
   "id": "ae14c9fc",
   "metadata": {},
   "outputs": [
    {
     "data": {
      "image/png": "[encoded data removed]",
      "text/plain": [
       "<Figure size 1296x648 with 2 Axes>"
      ]
     },
     "metadata": {
      "needs_background": "light"
     },
     "output_type": "display_data"
    }
   ],
   "source": [
    "# Plot a heatmap of the correlation matrix\n",
    "corr_matrix = data.corr()\n",
    "plt.figure(figsize=(18,9))\n",
    "sns.heatmap(data.corr(),xticklabels=corr_matrix.columns,yticklabels=corr_matrix.columns,vmin=-1,vmax=1,annot=True)\n",
    "plt.title(\"Heatmap of Correlation Matrix\")\n",
    "plt.show()"
   ]
  },
  {
   "cell_type": "code",
   "execution_count": 12,
   "id": "eb58aa2c",
   "metadata": {},
   "outputs": [],
   "source": [
    "def feat_plot(feature):\n",
    "    plt.figure(figsize=(16, 6))\n",
    "    plt.subplot(1, 3, 1)\n",
    "    feature.plot(kind = 'hist')\n",
    "    plt.title(f'{feature.name} histogram plot')\n",
    "    \n",
    "    #mean = feature.describe().mean()\n",
    "    plt.subplot(1, 3, 2)\n",
    "    mu, sigma = scipy.stats.norm.fit(feature)\n",
    "    sns.distplot(feature) \n",
    "    #plt.legend({'--': mu, 'sigma': sigma})\n",
    "    plt.axvline(mu, linestyle = '--', color = 'green', )\n",
    "    plt.axvline(sigma, linestyle = '--', color = 'red')\n",
    "    plt.title(f'{feature.name} distribution plot')\n",
    "    \n",
    "    plt.subplot(1, 3, 3)\n",
    "    sns.boxplot(feature)\n",
    "    plt.title(f'{feature.name} box plot')\n",
    "    plt.show()\n",
    "num_feat = data.select_dtypes(exclude = 'object')"
   ]
  },
  {
   "cell_type": "code",
   "execution_count": 13,
   "id": "60bcfef6",
   "metadata": {
    "scrolled": false
   },
   "outputs": [
    {
     "data": {
      "image/png": "[encoded data removed]",
      "text/plain": [
       "<Figure size 1152x432 with 3 Axes>"
      ]
     },
     "metadata": {
      "needs_background": "light"
     },
     "output_type": "display_data"
    },
    {
     "data": {
      "image/png": "[encoded data removed]",
      "text/plain": [
       "<Figure size 1152x432 with 3 Axes>"
      ]
     },
     "metadata": {
      "needs_background": "light"
     },
     "output_type": "display_data"
    },
    {
     "data": {
      "image/png": "[encoded data removed]",
      "text/plain": [
       "<Figure size 1152x432 with 3 Axes>"
      ]
     },
     "metadata": {
      "needs_background": "light"
     },
     "output_type": "display_data"
    },
    {
     "data": {
      "image/png": "[encoded data removed]",
      "text/plain": [
       "<Figure size 1152x432 with 3 Axes>"
      ]
     },
     "metadata": {
      "needs_background": "light"
     },
     "output_type": "display_data"
    },
    {
     "data": {
      "image/png": "[encoded data removed]",
      "text/plain": [
       "<Figure size 1152x432 with 3 Axes>"
      ]
     },
     "metadata": {
      "needs_background": "light"
     },
     "output_type": "display_data"
    },
    {
     "data": {
      "image/png": "[encoded data removed]",
      "text/plain": [
       "<Figure size 1152x432 with 3 Axes>"
      ]
     },
     "metadata": {
      "needs_background": "light"
     },
     "output_type": "display_data"
    }
   ],
   "source": [
    "for i in num_feat.columns:\n",
    "    feat_plot(num_feat[i])"
   ]
  },
  {
   "cell_type": "markdown",
   "id": "e43d3860",
   "metadata": {},
   "source": [
    "# DATA PREPARATİON"
   ]
  },
  {
   "cell_type": "code",
   "execution_count": 14,
   "id": "a0d7d8be",
   "metadata": {},
   "outputs": [
    {
     "data": {
      "text/plain": [
       " 3    7998\n",
       " 4    7814\n",
       " 5    7499\n",
       " 2    2116\n",
       " 1    2045\n",
       "-1     901\n",
       "Name: churn_risk_score, dtype: int64"
      ]
     },
     "execution_count": 14,
     "metadata": {},
     "output_type": "execute_result"
    }
   ],
   "source": [
    "data.churn_risk_score.value_counts()"
   ]
  },
  {
   "cell_type": "code",
   "execution_count": 15,
   "id": "56d988c6",
   "metadata": {},
   "outputs": [
    {
     "data": {
      "text/plain": [
       "(27472, 25)"
      ]
     },
     "execution_count": 15,
     "metadata": {},
     "output_type": "execute_result"
    }
   ],
   "source": [
    "# Drop rows with churn_risk_score equal to -1\n",
    "data = data.drop(data.loc[data['churn_risk_score'] == -1].index)\n",
    "data.shape"
   ]
  },
  {
   "cell_type": "code",
   "execution_count": 16,
   "id": "5f37b0aa",
   "metadata": {},
   "outputs": [
    {
     "data": {
      "text/plain": [
       " 12     1781\n",
       " 13     1729\n",
       " 14     1717\n",
       " 11     1702\n",
       " 15     1691\n",
       " 10     1535\n",
       " 16     1527\n",
       "-999    1509\n",
       " 9      1381\n",
       " 17     1313\n",
       " 8      1150\n",
       " 7      1066\n",
       " 18     1044\n",
       " 19      997\n",
       " 5       923\n",
       " 6       919\n",
       " 20      865\n",
       " 21      757\n",
       " 4       744\n",
       " 22      662\n",
       " 3       654\n",
       " 23      538\n",
       " 2       455\n",
       " 24      349\n",
       " 1       255\n",
       " 25      154\n",
       " 26       55\n",
       "Name: days_since_last_login, dtype: int64"
      ]
     },
     "execution_count": 16,
     "metadata": {},
     "output_type": "execute_result"
    }
   ],
   "source": [
    "data.days_since_last_login.value_counts()"
   ]
  },
  {
   "cell_type": "code",
   "execution_count": 17,
   "id": "6f7c1f49",
   "metadata": {},
   "outputs": [
    {
     "data": {
      "text/plain": [
       "(25963, 25)"
      ]
     },
     "execution_count": 17,
     "metadata": {},
     "output_type": "execute_result"
    }
   ],
   "source": [
    "# Drop rows with churn_risk_score equal to -999\n",
    "data = data.drop(data.loc[data['days_since_last_login'] == -999].index)\n",
    "data.shape"
   ]
  },
  {
   "cell_type": "code",
   "execution_count": 18,
   "id": "7cfaa660",
   "metadata": {},
   "outputs": [
    {
     "data": {
      "text/plain": [
       "28       -936.744818\n",
       "41       -930.207844\n",
       "60       -615.344319\n",
       "79       -687.629574\n",
       "117      -771.415609\n",
       "            ...     \n",
       "36740    -940.222528\n",
       "36760   -1020.419009\n",
       "36819    -910.568433\n",
       "36956    -746.034591\n",
       "36988    -638.123421\n",
       "Name: avg_time_spent, Length: 1235, dtype: float64"
      ]
     },
     "execution_count": 18,
     "metadata": {},
     "output_type": "execute_result"
    }
   ],
   "source": [
    "data.avg_time_spent[data.avg_time_spent<0]"
   ]
  },
  {
   "cell_type": "code",
   "execution_count": 19,
   "id": "1f71b45a",
   "metadata": {},
   "outputs": [
    {
     "data": {
      "text/plain": [
       "(24728, 25)"
      ]
     },
     "execution_count": 19,
     "metadata": {},
     "output_type": "execute_result"
    }
   ],
   "source": [
    "# Drop rows with avg_time_spent less than 0\n",
    "data = data.drop(data.loc[data['avg_time_spent'] < 0 ].index)\n",
    "data.shape"
   ]
  },
  {
   "cell_type": "code",
   "execution_count": 20,
   "id": "ec4475e8",
   "metadata": {},
   "outputs": [
    {
     "data": {
      "text/plain": [
       "67      -549.357498\n",
       "213      -38.084314\n",
       "837     -184.519595\n",
       "919     -243.016692\n",
       "1929      -8.468228\n",
       "            ...    \n",
       "35147    -57.241893\n",
       "35411   -108.057352\n",
       "35943    -43.109270\n",
       "36414   -170.497210\n",
       "36790   -317.024955\n",
       "Name: points_in_wallet, Length: 97, dtype: float64"
      ]
     },
     "execution_count": 20,
     "metadata": {},
     "output_type": "execute_result"
    }
   ],
   "source": [
    "data.points_in_wallet[data.points_in_wallet<0]"
   ]
  },
  {
   "cell_type": "code",
   "execution_count": 21,
   "id": "7d83cc27",
   "metadata": {},
   "outputs": [
    {
     "data": {
      "text/plain": [
       "(24631, 25)"
      ]
     },
     "execution_count": 21,
     "metadata": {},
     "output_type": "execute_result"
    }
   ],
   "source": [
    "# Drop rows with points_in_wallet less than 0\n",
    "data = data.drop(data.loc[data['points_in_wallet'] < 0 ].index)\n",
    "data.shape"
   ]
  },
  {
   "cell_type": "code",
   "execution_count": 22,
   "id": "7bd3a453",
   "metadata": {},
   "outputs": [
    {
     "data": {
      "text/plain": [
       "F          12349\n",
       "M          12246\n",
       "Unknown       36\n",
       "Name: gender, dtype: int64"
      ]
     },
     "execution_count": 22,
     "metadata": {},
     "output_type": "execute_result"
    }
   ],
   "source": [
    "data.gender.value_counts()"
   ]
  },
  {
   "cell_type": "code",
   "execution_count": 23,
   "id": "5027256f",
   "metadata": {},
   "outputs": [
    {
     "data": {
      "text/plain": [
       "(24595, 25)"
      ]
     },
     "execution_count": 23,
     "metadata": {},
     "output_type": "execute_result"
    }
   ],
   "source": [
    "# Drop rows with gender Unknown\n",
    "data = data.drop(data.loc[data['gender'] == \"Unknown\" ].index)\n",
    "data.shape"
   ]
  },
  {
   "cell_type": "code",
   "execution_count": 24,
   "id": "bb284a42",
   "metadata": {},
   "outputs": [
    {
     "data": {
      "text/plain": [
       "Town       11056\n",
       "City        9839\n",
       "Village     3700\n",
       "Name: region_category, dtype: int64"
      ]
     },
     "execution_count": 24,
     "metadata": {},
     "output_type": "execute_result"
    }
   ],
   "source": [
    "data.region_category.value_counts()"
   ]
  },
  {
   "cell_type": "code",
   "execution_count": 25,
   "id": "6cfa5d68",
   "metadata": {},
   "outputs": [
    {
     "data": {
      "text/plain": [
       "Basic Membership       5107\n",
       "No Membership          5070\n",
       "Gold Membership        4524\n",
       "Silver Membership      4028\n",
       "Premium Membership     2967\n",
       "Platinum Membership    2899\n",
       "Name: membership_category, dtype: int64"
      ]
     },
     "execution_count": 25,
     "metadata": {},
     "output_type": "execute_result"
    }
   ],
   "source": [
    "data.membership_category.value_counts()"
   ]
  },
  {
   "cell_type": "code",
   "execution_count": 26,
   "id": "49b43c18",
   "metadata": {},
   "outputs": [
    {
     "data": {
      "text/plain": [
       "No     10604\n",
       "Yes    10391\n",
       "?       3600\n",
       "Name: joined_through_referral, dtype: int64"
      ]
     },
     "execution_count": 26,
     "metadata": {},
     "output_type": "execute_result"
    }
   ],
   "source": [
    "data.joined_through_referral.value_counts()"
   ]
  },
  {
   "cell_type": "code",
   "execution_count": 27,
   "id": "fb92481f",
   "metadata": {},
   "outputs": [
    {
     "data": {
      "text/plain": [
       "(20995, 25)"
      ]
     },
     "execution_count": 27,
     "metadata": {},
     "output_type": "execute_result"
    }
   ],
   "source": [
    "# Drop rows with joined_through_referral ?\n",
    "data = data.drop(data.loc[data['joined_through_referral'] == \"?\" ].index)\n",
    "data.shape"
   ]
  },
  {
   "cell_type": "code",
   "execution_count": 28,
   "id": "ccac3b4a",
   "metadata": {},
   "outputs": [
    {
     "data": {
      "text/plain": [
       "Credit/Debit Card Offers    7047\n",
       "Gift Vouchers/Coupons       7021\n",
       "Without Offers              6927\n",
       "Name: preferred_offer_types, dtype: int64"
      ]
     },
     "execution_count": 28,
     "metadata": {},
     "output_type": "execute_result"
    }
   ],
   "source": [
    "data.preferred_offer_types.value_counts()"
   ]
  },
  {
   "cell_type": "code",
   "execution_count": 29,
   "id": "04f75e08",
   "metadata": {},
   "outputs": [
    {
     "data": {
      "text/plain": [
       "Smartphone    7924\n",
       "Desktop       7850\n",
       "?             3049\n",
       "Both          2172\n",
       "Name: medium_of_operation, dtype: int64"
      ]
     },
     "execution_count": 29,
     "metadata": {},
     "output_type": "execute_result"
    }
   ],
   "source": [
    "data.medium_of_operation.value_counts()"
   ]
  },
  {
   "cell_type": "code",
   "execution_count": 30,
   "id": "38eedd6b",
   "metadata": {},
   "outputs": [
    {
     "data": {
      "text/plain": [
       "(17946, 25)"
      ]
     },
     "execution_count": 30,
     "metadata": {},
     "output_type": "execute_result"
    }
   ],
   "source": [
    "# Drop rows with medium_of_operation ?\n",
    "data = data.drop(data.loc[data['medium_of_operation'] == \"?\" ].index)\n",
    "data.shape"
   ]
  },
  {
   "cell_type": "code",
   "execution_count": 31,
   "id": "2b9a0282",
   "metadata": {},
   "outputs": [
    {
     "data": {
      "text/plain": [
       "Mobile_Data    6000\n",
       "Fiber_Optic    6000\n",
       "Wi-Fi          5946\n",
       "Name: internet_option, dtype: int64"
      ]
     },
     "execution_count": 31,
     "metadata": {},
     "output_type": "execute_result"
    }
   ],
   "source": [
    "data.internet_option.value_counts()"
   ]
  },
  {
   "cell_type": "code",
   "execution_count": 32,
   "id": "8e0958f8",
   "metadata": {},
   "outputs": [
    {
     "data": {
      "text/plain": [
       "Error                  1693\n",
       "13.0                    691\n",
       "14.0                    672\n",
       "10.0                    668\n",
       "16.0                    662\n",
       "                       ... \n",
       "28.910535036296746        1\n",
       "56.16197924247753         1\n",
       "-8.26411518543324         1\n",
       "-16.694641617568223       1\n",
       "27.8399274405269          1\n",
       "Name: avg_frequency_login_days, Length: 803, dtype: int64"
      ]
     },
     "execution_count": 32,
     "metadata": {},
     "output_type": "execute_result"
    }
   ],
   "source": [
    "data.avg_frequency_login_days.value_counts()"
   ]
  },
  {
   "cell_type": "code",
   "execution_count": 33,
   "id": "41579efe",
   "metadata": {},
   "outputs": [
    {
     "data": {
      "text/plain": [
       "(16253, 25)"
      ]
     },
     "execution_count": 33,
     "metadata": {},
     "output_type": "execute_result"
    }
   ],
   "source": [
    "# Drop rows with avg_frequency_login_days Error\n",
    "data = data.drop(data.loc[data['avg_frequency_login_days'] == \"Error\" ].index)\n",
    "data.shape"
   ]
  },
  {
   "cell_type": "code",
   "execution_count": 34,
   "id": "2d663b88",
   "metadata": {},
   "outputs": [],
   "source": [
    "data.avg_frequency_login_days=data.avg_frequency_login_days.astype('float')"
   ]
  },
  {
   "cell_type": "code",
   "execution_count": 35,
   "id": "4a170182",
   "metadata": {},
   "outputs": [
    {
     "data": {
      "text/plain": [
       "2        22.0\n",
       "3         6.0\n",
       "4        16.0\n",
       "6        28.0\n",
       "10        8.0\n",
       "         ... \n",
       "36983    11.0\n",
       "36984     2.0\n",
       "36985     7.0\n",
       "36986    16.0\n",
       "36990    20.0\n",
       "Name: avg_frequency_login_days, Length: 16253, dtype: float64"
      ]
     },
     "execution_count": 35,
     "metadata": {},
     "output_type": "execute_result"
    }
   ],
   "source": [
    "data.avg_frequency_login_days"
   ]
  },
  {
   "cell_type": "code",
   "execution_count": 36,
   "id": "7e44059c",
   "metadata": {},
   "outputs": [
    {
     "data": {
      "text/plain": [
       "(15927, 25)"
      ]
     },
     "execution_count": 36,
     "metadata": {},
     "output_type": "execute_result"
    }
   ],
   "source": [
    "# Drop rows with avg_frequency_login_days less than 0\n",
    "data = data.drop(data.loc[data['avg_frequency_login_days'] < 0 ].index)\n",
    "data.shape"
   ]
  },
  {
   "cell_type": "code",
   "execution_count": 37,
   "id": "fcae6663",
   "metadata": {},
   "outputs": [
    {
     "data": {
      "text/plain": [
       "Yes    8770\n",
       "No     7157\n",
       "Name: used_special_discount, dtype: int64"
      ]
     },
     "execution_count": 37,
     "metadata": {},
     "output_type": "execute_result"
    }
   ],
   "source": [
    "data.used_special_discount.value_counts()"
   ]
  },
  {
   "cell_type": "code",
   "execution_count": 38,
   "id": "cc964602",
   "metadata": {},
   "outputs": [
    {
     "data": {
      "text/plain": [
       "Yes    8791\n",
       "No     7136\n",
       "Name: offer_application_preference, dtype: int64"
      ]
     },
     "execution_count": 38,
     "metadata": {},
     "output_type": "execute_result"
    }
   ],
   "source": [
    "data.offer_application_preference.value_counts()"
   ]
  },
  {
   "cell_type": "code",
   "execution_count": 39,
   "id": "068fe7c4",
   "metadata": {},
   "outputs": [
    {
     "data": {
      "text/plain": [
       "No     7977\n",
       "Yes    7950\n",
       "Name: past_complaint, dtype: int64"
      ]
     },
     "execution_count": 39,
     "metadata": {},
     "output_type": "execute_result"
    }
   ],
   "source": [
    "data.past_complaint.value_counts()"
   ]
  },
  {
   "cell_type": "code",
   "execution_count": 40,
   "id": "536b98ce",
   "metadata": {},
   "outputs": [
    {
     "data": {
      "text/plain": [
       "Not Applicable              7977\n",
       "Solved                      2014\n",
       "Unsolved                    2013\n",
       "Solved in Follow-up         1984\n",
       "No Information Available    1939\n",
       "Name: complaint_status, dtype: int64"
      ]
     },
     "execution_count": 40,
     "metadata": {},
     "output_type": "execute_result"
    }
   ],
   "source": [
    "data.complaint_status.value_counts()"
   ]
  },
  {
   "cell_type": "code",
   "execution_count": 41,
   "id": "157e0bd5",
   "metadata": {},
   "outputs": [
    {
     "data": {
      "text/plain": [
       "Poor Website                2712\n",
       "Too many ads                2709\n",
       "Poor Product Quality        2707\n",
       "Poor Customer Service       2699\n",
       "No reason specified         2659\n",
       "Reasonable Price             628\n",
       "User Friendly Website        624\n",
       "Quality Customer Care        602\n",
       "Products always in Stock     587\n",
       "Name: feedback, dtype: int64"
      ]
     },
     "execution_count": 41,
     "metadata": {},
     "output_type": "execute_result"
    }
   ],
   "source": [
    "data.feedback.value_counts()"
   ]
  },
  {
   "cell_type": "code",
   "execution_count": 42,
   "id": "54365469",
   "metadata": {},
   "outputs": [
    {
     "data": {
      "text/html": [
       "<div>\n",
       "<style scoped>\n",
       "    .dataframe tbody tr th:only-of-type {\n",
       "        vertical-align: middle;\n",
       "    }\n",
       "\n",
       "    .dataframe tbody tr th {\n",
       "        vertical-align: top;\n",
       "    }\n",
       "\n",
       "    .dataframe thead th {\n",
       "        text-align: right;\n",
       "    }\n",
       "</style>\n",
       "<table border=\"1\" class=\"dataframe\">\n",
       "  <thead>\n",
       "    <tr style=\"text-align: right;\">\n",
       "      <th></th>\n",
       "      <th>age</th>\n",
       "      <th>gender</th>\n",
       "      <th>region_category</th>\n",
       "      <th>membership_category</th>\n",
       "      <th>joined_through_referral</th>\n",
       "      <th>preferred_offer_types</th>\n",
       "      <th>medium_of_operation</th>\n",
       "      <th>internet_option</th>\n",
       "      <th>days_since_last_login</th>\n",
       "      <th>avg_time_spent</th>\n",
       "      <th>avg_transaction_value</th>\n",
       "      <th>avg_frequency_login_days</th>\n",
       "      <th>points_in_wallet</th>\n",
       "      <th>used_special_discount</th>\n",
       "      <th>offer_application_preference</th>\n",
       "      <th>past_complaint</th>\n",
       "      <th>complaint_status</th>\n",
       "      <th>feedback</th>\n",
       "      <th>churn_risk_score</th>\n",
       "    </tr>\n",
       "  </thead>\n",
       "  <tbody>\n",
       "    <tr>\n",
       "      <th>2</th>\n",
       "      <td>44</td>\n",
       "      <td>F</td>\n",
       "      <td>Town</td>\n",
       "      <td>No Membership</td>\n",
       "      <td>Yes</td>\n",
       "      <td>Gift Vouchers/Coupons</td>\n",
       "      <td>Desktop</td>\n",
       "      <td>Wi-Fi</td>\n",
       "      <td>14</td>\n",
       "      <td>516.16</td>\n",
       "      <td>21027.00</td>\n",
       "      <td>22.0</td>\n",
       "      <td>500.690000</td>\n",
       "      <td>No</td>\n",
       "      <td>Yes</td>\n",
       "      <td>Yes</td>\n",
       "      <td>Solved in Follow-up</td>\n",
       "      <td>Poor Website</td>\n",
       "      <td>5</td>\n",
       "    </tr>\n",
       "    <tr>\n",
       "      <th>3</th>\n",
       "      <td>37</td>\n",
       "      <td>M</td>\n",
       "      <td>City</td>\n",
       "      <td>No Membership</td>\n",
       "      <td>Yes</td>\n",
       "      <td>Gift Vouchers/Coupons</td>\n",
       "      <td>Desktop</td>\n",
       "      <td>Mobile_Data</td>\n",
       "      <td>11</td>\n",
       "      <td>53.27</td>\n",
       "      <td>25239.56</td>\n",
       "      <td>6.0</td>\n",
       "      <td>567.660000</td>\n",
       "      <td>No</td>\n",
       "      <td>Yes</td>\n",
       "      <td>Yes</td>\n",
       "      <td>Unsolved</td>\n",
       "      <td>Poor Website</td>\n",
       "      <td>5</td>\n",
       "    </tr>\n",
       "    <tr>\n",
       "      <th>4</th>\n",
       "      <td>31</td>\n",
       "      <td>F</td>\n",
       "      <td>City</td>\n",
       "      <td>No Membership</td>\n",
       "      <td>No</td>\n",
       "      <td>Credit/Debit Card Offers</td>\n",
       "      <td>Smartphone</td>\n",
       "      <td>Mobile_Data</td>\n",
       "      <td>20</td>\n",
       "      <td>113.13</td>\n",
       "      <td>24483.66</td>\n",
       "      <td>16.0</td>\n",
       "      <td>663.060000</td>\n",
       "      <td>No</td>\n",
       "      <td>Yes</td>\n",
       "      <td>Yes</td>\n",
       "      <td>Solved</td>\n",
       "      <td>Poor Website</td>\n",
       "      <td>5</td>\n",
       "    </tr>\n",
       "    <tr>\n",
       "      <th>6</th>\n",
       "      <td>21</td>\n",
       "      <td>M</td>\n",
       "      <td>Town</td>\n",
       "      <td>Gold Membership</td>\n",
       "      <td>Yes</td>\n",
       "      <td>Gift Vouchers/Coupons</td>\n",
       "      <td>Desktop</td>\n",
       "      <td>Mobile_Data</td>\n",
       "      <td>10</td>\n",
       "      <td>55.38</td>\n",
       "      <td>8982.50</td>\n",
       "      <td>28.0</td>\n",
       "      <td>756.210000</td>\n",
       "      <td>Yes</td>\n",
       "      <td>No</td>\n",
       "      <td>Yes</td>\n",
       "      <td>Solved in Follow-up</td>\n",
       "      <td>No reason specified</td>\n",
       "      <td>3</td>\n",
       "    </tr>\n",
       "    <tr>\n",
       "      <th>10</th>\n",
       "      <td>25</td>\n",
       "      <td>F</td>\n",
       "      <td>Village</td>\n",
       "      <td>Basic Membership</td>\n",
       "      <td>Yes</td>\n",
       "      <td>Gift Vouchers/Coupons</td>\n",
       "      <td>Both</td>\n",
       "      <td>Wi-Fi</td>\n",
       "      <td>14</td>\n",
       "      <td>570.23</td>\n",
       "      <td>35119.93</td>\n",
       "      <td>8.0</td>\n",
       "      <td>699.700000</td>\n",
       "      <td>Yes</td>\n",
       "      <td>Yes</td>\n",
       "      <td>No</td>\n",
       "      <td>Not Applicable</td>\n",
       "      <td>Poor Product Quality</td>\n",
       "      <td>5</td>\n",
       "    </tr>\n",
       "    <tr>\n",
       "      <th>...</th>\n",
       "      <td>...</td>\n",
       "      <td>...</td>\n",
       "      <td>...</td>\n",
       "      <td>...</td>\n",
       "      <td>...</td>\n",
       "      <td>...</td>\n",
       "      <td>...</td>\n",
       "      <td>...</td>\n",
       "      <td>...</td>\n",
       "      <td>...</td>\n",
       "      <td>...</td>\n",
       "      <td>...</td>\n",
       "      <td>...</td>\n",
       "      <td>...</td>\n",
       "      <td>...</td>\n",
       "      <td>...</td>\n",
       "      <td>...</td>\n",
       "      <td>...</td>\n",
       "      <td>...</td>\n",
       "    </tr>\n",
       "    <tr>\n",
       "      <th>36983</th>\n",
       "      <td>45</td>\n",
       "      <td>M</td>\n",
       "      <td>Town</td>\n",
       "      <td>Basic Membership</td>\n",
       "      <td>Yes</td>\n",
       "      <td>Without Offers</td>\n",
       "      <td>Smartphone</td>\n",
       "      <td>Wi-Fi</td>\n",
       "      <td>9</td>\n",
       "      <td>49.33</td>\n",
       "      <td>45358.49</td>\n",
       "      <td>11.0</td>\n",
       "      <td>242.979625</td>\n",
       "      <td>Yes</td>\n",
       "      <td>No</td>\n",
       "      <td>No</td>\n",
       "      <td>Not Applicable</td>\n",
       "      <td>Poor Customer Service</td>\n",
       "      <td>5</td>\n",
       "    </tr>\n",
       "    <tr>\n",
       "      <th>36984</th>\n",
       "      <td>51</td>\n",
       "      <td>M</td>\n",
       "      <td>Town</td>\n",
       "      <td>Gold Membership</td>\n",
       "      <td>No</td>\n",
       "      <td>Without Offers</td>\n",
       "      <td>Desktop</td>\n",
       "      <td>Fiber_Optic</td>\n",
       "      <td>24</td>\n",
       "      <td>312.33</td>\n",
       "      <td>63446.71</td>\n",
       "      <td>2.0</td>\n",
       "      <td>778.700000</td>\n",
       "      <td>No</td>\n",
       "      <td>Yes</td>\n",
       "      <td>No</td>\n",
       "      <td>Not Applicable</td>\n",
       "      <td>Products always in Stock</td>\n",
       "      <td>1</td>\n",
       "    </tr>\n",
       "    <tr>\n",
       "      <th>36985</th>\n",
       "      <td>12</td>\n",
       "      <td>F</td>\n",
       "      <td>Village</td>\n",
       "      <td>Premium Membership</td>\n",
       "      <td>No</td>\n",
       "      <td>Gift Vouchers/Coupons</td>\n",
       "      <td>Desktop</td>\n",
       "      <td>Fiber_Optic</td>\n",
       "      <td>13</td>\n",
       "      <td>418.38</td>\n",
       "      <td>56397.21</td>\n",
       "      <td>7.0</td>\n",
       "      <td>725.890000</td>\n",
       "      <td>Yes</td>\n",
       "      <td>Yes</td>\n",
       "      <td>Yes</td>\n",
       "      <td>Unsolved</td>\n",
       "      <td>Products always in Stock</td>\n",
       "      <td>2</td>\n",
       "    </tr>\n",
       "    <tr>\n",
       "      <th>36986</th>\n",
       "      <td>27</td>\n",
       "      <td>M</td>\n",
       "      <td>Town</td>\n",
       "      <td>Platinum Membership</td>\n",
       "      <td>Yes</td>\n",
       "      <td>Credit/Debit Card Offers</td>\n",
       "      <td>Desktop</td>\n",
       "      <td>Mobile_Data</td>\n",
       "      <td>13</td>\n",
       "      <td>135.83</td>\n",
       "      <td>8225.68</td>\n",
       "      <td>16.0</td>\n",
       "      <td>748.570000</td>\n",
       "      <td>Yes</td>\n",
       "      <td>No</td>\n",
       "      <td>No</td>\n",
       "      <td>Not Applicable</td>\n",
       "      <td>No reason specified</td>\n",
       "      <td>3</td>\n",
       "    </tr>\n",
       "    <tr>\n",
       "      <th>36990</th>\n",
       "      <td>53</td>\n",
       "      <td>M</td>\n",
       "      <td>Village</td>\n",
       "      <td>Platinum Membership</td>\n",
       "      <td>No</td>\n",
       "      <td>Gift Vouchers/Coupons</td>\n",
       "      <td>Smartphone</td>\n",
       "      <td>Mobile_Data</td>\n",
       "      <td>15</td>\n",
       "      <td>482.61</td>\n",
       "      <td>2378.86</td>\n",
       "      <td>20.0</td>\n",
       "      <td>197.264414</td>\n",
       "      <td>Yes</td>\n",
       "      <td>Yes</td>\n",
       "      <td>No</td>\n",
       "      <td>Not Applicable</td>\n",
       "      <td>No reason specified</td>\n",
       "      <td>3</td>\n",
       "    </tr>\n",
       "  </tbody>\n",
       "</table>\n",
       "<p>15927 rows × 19 columns</p>\n",
       "</div>"
      ],
      "text/plain": [
       "       age gender region_category  membership_category  \\\n",
       "2       44      F            Town        No Membership   \n",
       "3       37      M            City        No Membership   \n",
       "4       31      F            City        No Membership   \n",
       "6       21      M            Town      Gold Membership   \n",
       "10      25      F         Village     Basic Membership   \n",
       "...    ...    ...             ...                  ...   \n",
       "36983   45      M            Town     Basic Membership   \n",
       "36984   51      M            Town      Gold Membership   \n",
       "36985   12      F         Village   Premium Membership   \n",
       "36986   27      M            Town  Platinum Membership   \n",
       "36990   53      M         Village  Platinum Membership   \n",
       "\n",
       "      joined_through_referral     preferred_offer_types medium_of_operation  \\\n",
       "2                         Yes     Gift Vouchers/Coupons             Desktop   \n",
       "3                         Yes     Gift Vouchers/Coupons             Desktop   \n",
       "4                          No  Credit/Debit Card Offers          Smartphone   \n",
       "6                         Yes     Gift Vouchers/Coupons             Desktop   \n",
       "10                        Yes     Gift Vouchers/Coupons                Both   \n",
       "...                       ...                       ...                 ...   \n",
       "36983                     Yes            Without Offers          Smartphone   \n",
       "36984                      No            Without Offers             Desktop   \n",
       "36985                      No     Gift Vouchers/Coupons             Desktop   \n",
       "36986                     Yes  Credit/Debit Card Offers             Desktop   \n",
       "36990                      No     Gift Vouchers/Coupons          Smartphone   \n",
       "\n",
       "      internet_option  days_since_last_login  avg_time_spent  \\\n",
       "2               Wi-Fi                     14          516.16   \n",
       "3         Mobile_Data                     11           53.27   \n",
       "4         Mobile_Data                     20          113.13   \n",
       "6         Mobile_Data                     10           55.38   \n",
       "10              Wi-Fi                     14          570.23   \n",
       "...               ...                    ...             ...   \n",
       "36983           Wi-Fi                      9           49.33   \n",
       "36984     Fiber_Optic                     24          312.33   \n",
       "36985     Fiber_Optic                     13          418.38   \n",
       "36986     Mobile_Data                     13          135.83   \n",
       "36990     Mobile_Data                     15          482.61   \n",
       "\n",
       "       avg_transaction_value  avg_frequency_login_days  points_in_wallet  \\\n",
       "2                   21027.00                      22.0        500.690000   \n",
       "3                   25239.56                       6.0        567.660000   \n",
       "4                   24483.66                      16.0        663.060000   \n",
       "6                    8982.50                      28.0        756.210000   \n",
       "10                  35119.93                       8.0        699.700000   \n",
       "...                      ...                       ...               ...   \n",
       "36983               45358.49                      11.0        242.979625   \n",
       "36984               63446.71                       2.0        778.700000   \n",
       "36985               56397.21                       7.0        725.890000   \n",
       "36986                8225.68                      16.0        748.570000   \n",
       "36990                2378.86                      20.0        197.264414   \n",
       "\n",
       "      used_special_discount offer_application_preference past_complaint  \\\n",
       "2                        No                          Yes            Yes   \n",
       "3                        No                          Yes            Yes   \n",
       "4                        No                          Yes            Yes   \n",
       "6                       Yes                           No            Yes   \n",
       "10                      Yes                          Yes             No   \n",
       "...                     ...                          ...            ...   \n",
       "36983                   Yes                           No             No   \n",
       "36984                    No                          Yes             No   \n",
       "36985                   Yes                          Yes            Yes   \n",
       "36986                   Yes                           No             No   \n",
       "36990                   Yes                          Yes             No   \n",
       "\n",
       "          complaint_status                  feedback  churn_risk_score  \n",
       "2      Solved in Follow-up              Poor Website                 5  \n",
       "3                 Unsolved              Poor Website                 5  \n",
       "4                   Solved              Poor Website                 5  \n",
       "6      Solved in Follow-up       No reason specified                 3  \n",
       "10          Not Applicable      Poor Product Quality                 5  \n",
       "...                    ...                       ...               ...  \n",
       "36983       Not Applicable     Poor Customer Service                 5  \n",
       "36984       Not Applicable  Products always in Stock                 1  \n",
       "36985             Unsolved  Products always in Stock                 2  \n",
       "36986       Not Applicable       No reason specified                 3  \n",
       "36990       Not Applicable       No reason specified                 3  \n",
       "\n",
       "[15927 rows x 19 columns]"
      ]
     },
     "execution_count": 42,
     "metadata": {},
     "output_type": "execute_result"
    }
   ],
   "source": [
    "# Drop irrelevant columns \n",
    "data.drop([\"customer_id\",\"Name\",\"security_no\",\"referral_id\",\"joining_date\",\"last_visit_time\"],axis=1,inplace=True)\n",
    "data"
   ]
  },
  {
   "cell_type": "code",
   "execution_count": 43,
   "id": "7e8f6b2c",
   "metadata": {
    "scrolled": true
   },
   "outputs": [
    {
     "data": {
      "text/html": [
       "<div>\n",
       "<style scoped>\n",
       "    .dataframe tbody tr th:only-of-type {\n",
       "        vertical-align: middle;\n",
       "    }\n",
       "\n",
       "    .dataframe tbody tr th {\n",
       "        vertical-align: top;\n",
       "    }\n",
       "\n",
       "    .dataframe thead th {\n",
       "        text-align: right;\n",
       "    }\n",
       "</style>\n",
       "<table border=\"1\" class=\"dataframe\">\n",
       "  <thead>\n",
       "    <tr style=\"text-align: right;\">\n",
       "      <th></th>\n",
       "      <th>age</th>\n",
       "      <th>days_since_last_login</th>\n",
       "      <th>avg_time_spent</th>\n",
       "      <th>avg_transaction_value</th>\n",
       "      <th>avg_frequency_login_days</th>\n",
       "      <th>points_in_wallet</th>\n",
       "      <th>churn_risk_score</th>\n",
       "      <th>gender_0</th>\n",
       "      <th>gender_1</th>\n",
       "      <th>region_category_0</th>\n",
       "      <th>...</th>\n",
       "      <th>complaint_status_4</th>\n",
       "      <th>feedback_0</th>\n",
       "      <th>feedback_1</th>\n",
       "      <th>feedback_2</th>\n",
       "      <th>feedback_3</th>\n",
       "      <th>feedback_4</th>\n",
       "      <th>feedback_5</th>\n",
       "      <th>feedback_6</th>\n",
       "      <th>feedback_7</th>\n",
       "      <th>feedback_8</th>\n",
       "    </tr>\n",
       "  </thead>\n",
       "  <tbody>\n",
       "    <tr>\n",
       "      <th>2</th>\n",
       "      <td>44</td>\n",
       "      <td>14</td>\n",
       "      <td>516.16</td>\n",
       "      <td>21027.00</td>\n",
       "      <td>22.0</td>\n",
       "      <td>500.69</td>\n",
       "      <td>5</td>\n",
       "      <td>1</td>\n",
       "      <td>0</td>\n",
       "      <td>0</td>\n",
       "      <td>...</td>\n",
       "      <td>0</td>\n",
       "      <td>0</td>\n",
       "      <td>0</td>\n",
       "      <td>0</td>\n",
       "      <td>1</td>\n",
       "      <td>0</td>\n",
       "      <td>0</td>\n",
       "      <td>0</td>\n",
       "      <td>0</td>\n",
       "      <td>0</td>\n",
       "    </tr>\n",
       "    <tr>\n",
       "      <th>3</th>\n",
       "      <td>37</td>\n",
       "      <td>11</td>\n",
       "      <td>53.27</td>\n",
       "      <td>25239.56</td>\n",
       "      <td>6.0</td>\n",
       "      <td>567.66</td>\n",
       "      <td>5</td>\n",
       "      <td>0</td>\n",
       "      <td>1</td>\n",
       "      <td>1</td>\n",
       "      <td>...</td>\n",
       "      <td>1</td>\n",
       "      <td>0</td>\n",
       "      <td>0</td>\n",
       "      <td>0</td>\n",
       "      <td>1</td>\n",
       "      <td>0</td>\n",
       "      <td>0</td>\n",
       "      <td>0</td>\n",
       "      <td>0</td>\n",
       "      <td>0</td>\n",
       "    </tr>\n",
       "    <tr>\n",
       "      <th>4</th>\n",
       "      <td>31</td>\n",
       "      <td>20</td>\n",
       "      <td>113.13</td>\n",
       "      <td>24483.66</td>\n",
       "      <td>16.0</td>\n",
       "      <td>663.06</td>\n",
       "      <td>5</td>\n",
       "      <td>1</td>\n",
       "      <td>0</td>\n",
       "      <td>1</td>\n",
       "      <td>...</td>\n",
       "      <td>0</td>\n",
       "      <td>0</td>\n",
       "      <td>0</td>\n",
       "      <td>0</td>\n",
       "      <td>1</td>\n",
       "      <td>0</td>\n",
       "      <td>0</td>\n",
       "      <td>0</td>\n",
       "      <td>0</td>\n",
       "      <td>0</td>\n",
       "    </tr>\n",
       "    <tr>\n",
       "      <th>6</th>\n",
       "      <td>21</td>\n",
       "      <td>10</td>\n",
       "      <td>55.38</td>\n",
       "      <td>8982.50</td>\n",
       "      <td>28.0</td>\n",
       "      <td>756.21</td>\n",
       "      <td>3</td>\n",
       "      <td>0</td>\n",
       "      <td>1</td>\n",
       "      <td>0</td>\n",
       "      <td>...</td>\n",
       "      <td>0</td>\n",
       "      <td>1</td>\n",
       "      <td>0</td>\n",
       "      <td>0</td>\n",
       "      <td>0</td>\n",
       "      <td>0</td>\n",
       "      <td>0</td>\n",
       "      <td>0</td>\n",
       "      <td>0</td>\n",
       "      <td>0</td>\n",
       "    </tr>\n",
       "    <tr>\n",
       "      <th>10</th>\n",
       "      <td>25</td>\n",
       "      <td>14</td>\n",
       "      <td>570.23</td>\n",
       "      <td>35119.93</td>\n",
       "      <td>8.0</td>\n",
       "      <td>699.70</td>\n",
       "      <td>5</td>\n",
       "      <td>1</td>\n",
       "      <td>0</td>\n",
       "      <td>0</td>\n",
       "      <td>...</td>\n",
       "      <td>0</td>\n",
       "      <td>0</td>\n",
       "      <td>0</td>\n",
       "      <td>1</td>\n",
       "      <td>0</td>\n",
       "      <td>0</td>\n",
       "      <td>0</td>\n",
       "      <td>0</td>\n",
       "      <td>0</td>\n",
       "      <td>0</td>\n",
       "    </tr>\n",
       "  </tbody>\n",
       "</table>\n",
       "<p>5 rows × 49 columns</p>\n",
       "</div>"
      ],
      "text/plain": [
       "    age  days_since_last_login  avg_time_spent  avg_transaction_value  \\\n",
       "2    44                     14          516.16               21027.00   \n",
       "3    37                     11           53.27               25239.56   \n",
       "4    31                     20          113.13               24483.66   \n",
       "6    21                     10           55.38                8982.50   \n",
       "10   25                     14          570.23               35119.93   \n",
       "\n",
       "    avg_frequency_login_days  points_in_wallet  churn_risk_score  gender_0  \\\n",
       "2                       22.0            500.69                 5         1   \n",
       "3                        6.0            567.66                 5         0   \n",
       "4                       16.0            663.06                 5         1   \n",
       "6                       28.0            756.21                 3         0   \n",
       "10                       8.0            699.70                 5         1   \n",
       "\n",
       "    gender_1  region_category_0  ...  complaint_status_4  feedback_0  \\\n",
       "2          0                  0  ...                   0           0   \n",
       "3          1                  1  ...                   1           0   \n",
       "4          0                  1  ...                   0           0   \n",
       "6          1                  0  ...                   0           1   \n",
       "10         0                  0  ...                   0           0   \n",
       "\n",
       "    feedback_1  feedback_2  feedback_3  feedback_4  feedback_5  feedback_6  \\\n",
       "2            0           0           1           0           0           0   \n",
       "3            0           0           1           0           0           0   \n",
       "4            0           0           1           0           0           0   \n",
       "6            0           0           0           0           0           0   \n",
       "10           0           1           0           0           0           0   \n",
       "\n",
       "    feedback_7  feedback_8  \n",
       "2            0           0  \n",
       "3            0           0  \n",
       "4            0           0  \n",
       "6            0           0  \n",
       "10           0           0  \n",
       "\n",
       "[5 rows x 49 columns]"
      ]
     },
     "execution_count": 43,
     "metadata": {},
     "output_type": "execute_result"
    }
   ],
   "source": [
    "# Create a LabelEncoder object\n",
    "le = LabelEncoder()\n",
    "\n",
    "# Encode categorical variables\n",
    "data[\"gender\"] = le.fit_transform(data[\"gender\"])\n",
    "data[\"region_category\"] = le.fit_transform(data[\"region_category\"])\n",
    "data[\"membership_category\"] = le.fit_transform(data[\"membership_category\"])\n",
    "data[\"joined_through_referral\"] = le.fit_transform(data[\"joined_through_referral\"])\n",
    "data[\"preferred_offer_types\"] = le.fit_transform(data[\"preferred_offer_types\"])\n",
    "data[\"medium_of_operation\"] = le.fit_transform(data[\"medium_of_operation\"])\n",
    "data[\"internet_option\"] = le.fit_transform(data[\"internet_option\"])\n",
    "data[\"used_special_discount\"] = le.fit_transform(data[\"used_special_discount\"])\n",
    "data[\"offer_application_preference\"] = le.fit_transform(data[\"offer_application_preference\"])\n",
    "data[\"past_complaint\"] = le.fit_transform(data[\"past_complaint\"])\n",
    "data[\"complaint_status\"] = le.fit_transform(data[\"complaint_status\"])\n",
    "data[\"feedback\"] = le.fit_transform(data[\"feedback\"])\n",
    "\n",
    "\n",
    "# Create dummy variables for the encoded categorical columns\n",
    "df_encoded = pd.get_dummies(data, columns=[\"gender\",\"region_category\", \"membership_category\",\"joined_through_referral\",\"preferred_offer_types\",\"medium_of_operation\",\"internet_option\",\"used_special_discount\",\"offer_application_preference\",\"past_complaint\",\"complaint_status\",\"feedback\"])\n",
    "data=df_encoded\n",
    "data.head()"
   ]
  },
  {
   "cell_type": "code",
   "execution_count": 44,
   "id": "357cd2bb",
   "metadata": {},
   "outputs": [
    {
     "data": {
      "text/plain": [
       "Index(['age', 'days_since_last_login', 'avg_time_spent',\n",
       "       'avg_transaction_value', 'avg_frequency_login_days', 'points_in_wallet',\n",
       "       'churn_risk_score', 'gender_0', 'gender_1', 'region_category_0',\n",
       "       'region_category_1', 'region_category_2', 'membership_category_0',\n",
       "       'membership_category_1', 'membership_category_2',\n",
       "       'membership_category_3', 'membership_category_4',\n",
       "       'membership_category_5', 'joined_through_referral_0',\n",
       "       'joined_through_referral_1', 'preferred_offer_types_0',\n",
       "       'preferred_offer_types_1', 'preferred_offer_types_2',\n",
       "       'medium_of_operation_0', 'medium_of_operation_1',\n",
       "       'medium_of_operation_2', 'internet_option_0', 'internet_option_1',\n",
       "       'internet_option_2', 'used_special_discount_0',\n",
       "       'used_special_discount_1', 'offer_application_preference_0',\n",
       "       'offer_application_preference_1', 'past_complaint_0',\n",
       "       'past_complaint_1', 'complaint_status_0', 'complaint_status_1',\n",
       "       'complaint_status_2', 'complaint_status_3', 'complaint_status_4',\n",
       "       'feedback_0', 'feedback_1', 'feedback_2', 'feedback_3', 'feedback_4',\n",
       "       'feedback_5', 'feedback_6', 'feedback_7', 'feedback_8'],\n",
       "      dtype='object')"
      ]
     },
     "execution_count": 44,
     "metadata": {},
     "output_type": "execute_result"
    }
   ],
   "source": [
    "data.columns"
   ]
  },
  {
   "cell_type": "code",
   "execution_count": 45,
   "id": "b773015e",
   "metadata": {},
   "outputs": [
    {
     "data": {
      "text/plain": [
       "1    8839\n",
       "0    7088\n",
       "Name: churn_risk_score, dtype: int64"
      ]
     },
     "execution_count": 45,
     "metadata": {},
     "output_type": "execute_result"
    }
   ],
   "source": [
    "# Turning churn_risk_score to binary if it is equal and more than 4, it is high risk churn (1), otherwise low risk churn(0)\n",
    "data.churn_risk_score[data['churn_risk_score']== 1]\n",
    "data.churn_risk_score=np.where(data['churn_risk_score'] >= 4 , 1, 0)\n",
    "data.churn_risk_score.value_counts()"
   ]
  },
  {
   "cell_type": "code",
   "execution_count": 46,
   "id": "729c23ca",
   "metadata": {},
   "outputs": [],
   "source": [
    "y=data['churn_risk_score'].values\n",
    "X=data.drop([\"churn_risk_score\"],axis=1)"
   ]
  },
  {
   "cell_type": "code",
   "execution_count": 47,
   "id": "e8adf1a0",
   "metadata": {},
   "outputs": [
    {
     "data": {
      "text/html": [
       "<div>\n",
       "<style scoped>\n",
       "    .dataframe tbody tr th:only-of-type {\n",
       "        vertical-align: middle;\n",
       "    }\n",
       "\n",
       "    .dataframe tbody tr th {\n",
       "        vertical-align: top;\n",
       "    }\n",
       "\n",
       "    .dataframe thead th {\n",
       "        text-align: right;\n",
       "    }\n",
       "</style>\n",
       "<table border=\"1\" class=\"dataframe\">\n",
       "  <thead>\n",
       "    <tr style=\"text-align: right;\">\n",
       "      <th></th>\n",
       "      <th>age</th>\n",
       "      <th>days_since_last_login</th>\n",
       "      <th>avg_time_spent</th>\n",
       "      <th>avg_transaction_value</th>\n",
       "      <th>avg_frequency_login_days</th>\n",
       "      <th>points_in_wallet</th>\n",
       "      <th>gender_0</th>\n",
       "      <th>gender_1</th>\n",
       "      <th>region_category_0</th>\n",
       "      <th>region_category_1</th>\n",
       "      <th>...</th>\n",
       "      <th>complaint_status_4</th>\n",
       "      <th>feedback_0</th>\n",
       "      <th>feedback_1</th>\n",
       "      <th>feedback_2</th>\n",
       "      <th>feedback_3</th>\n",
       "      <th>feedback_4</th>\n",
       "      <th>feedback_5</th>\n",
       "      <th>feedback_6</th>\n",
       "      <th>feedback_7</th>\n",
       "      <th>feedback_8</th>\n",
       "    </tr>\n",
       "  </thead>\n",
       "  <tbody>\n",
       "    <tr>\n",
       "      <th>2</th>\n",
       "      <td>44</td>\n",
       "      <td>14</td>\n",
       "      <td>516.16</td>\n",
       "      <td>21027.00</td>\n",
       "      <td>22.0</td>\n",
       "      <td>500.690000</td>\n",
       "      <td>1</td>\n",
       "      <td>0</td>\n",
       "      <td>0</td>\n",
       "      <td>1</td>\n",
       "      <td>...</td>\n",
       "      <td>0</td>\n",
       "      <td>0</td>\n",
       "      <td>0</td>\n",
       "      <td>0</td>\n",
       "      <td>1</td>\n",
       "      <td>0</td>\n",
       "      <td>0</td>\n",
       "      <td>0</td>\n",
       "      <td>0</td>\n",
       "      <td>0</td>\n",
       "    </tr>\n",
       "    <tr>\n",
       "      <th>3</th>\n",
       "      <td>37</td>\n",
       "      <td>11</td>\n",
       "      <td>53.27</td>\n",
       "      <td>25239.56</td>\n",
       "      <td>6.0</td>\n",
       "      <td>567.660000</td>\n",
       "      <td>0</td>\n",
       "      <td>1</td>\n",
       "      <td>1</td>\n",
       "      <td>0</td>\n",
       "      <td>...</td>\n",
       "      <td>1</td>\n",
       "      <td>0</td>\n",
       "      <td>0</td>\n",
       "      <td>0</td>\n",
       "      <td>1</td>\n",
       "      <td>0</td>\n",
       "      <td>0</td>\n",
       "      <td>0</td>\n",
       "      <td>0</td>\n",
       "      <td>0</td>\n",
       "    </tr>\n",
       "    <tr>\n",
       "      <th>4</th>\n",
       "      <td>31</td>\n",
       "      <td>20</td>\n",
       "      <td>113.13</td>\n",
       "      <td>24483.66</td>\n",
       "      <td>16.0</td>\n",
       "      <td>663.060000</td>\n",
       "      <td>1</td>\n",
       "      <td>0</td>\n",
       "      <td>1</td>\n",
       "      <td>0</td>\n",
       "      <td>...</td>\n",
       "      <td>0</td>\n",
       "      <td>0</td>\n",
       "      <td>0</td>\n",
       "      <td>0</td>\n",
       "      <td>1</td>\n",
       "      <td>0</td>\n",
       "      <td>0</td>\n",
       "      <td>0</td>\n",
       "      <td>0</td>\n",
       "      <td>0</td>\n",
       "    </tr>\n",
       "    <tr>\n",
       "      <th>6</th>\n",
       "      <td>21</td>\n",
       "      <td>10</td>\n",
       "      <td>55.38</td>\n",
       "      <td>8982.50</td>\n",
       "      <td>28.0</td>\n",
       "      <td>756.210000</td>\n",
       "      <td>0</td>\n",
       "      <td>1</td>\n",
       "      <td>0</td>\n",
       "      <td>1</td>\n",
       "      <td>...</td>\n",
       "      <td>0</td>\n",
       "      <td>1</td>\n",
       "      <td>0</td>\n",
       "      <td>0</td>\n",
       "      <td>0</td>\n",
       "      <td>0</td>\n",
       "      <td>0</td>\n",
       "      <td>0</td>\n",
       "      <td>0</td>\n",
       "      <td>0</td>\n",
       "    </tr>\n",
       "    <tr>\n",
       "      <th>10</th>\n",
       "      <td>25</td>\n",
       "      <td>14</td>\n",
       "      <td>570.23</td>\n",
       "      <td>35119.93</td>\n",
       "      <td>8.0</td>\n",
       "      <td>699.700000</td>\n",
       "      <td>1</td>\n",
       "      <td>0</td>\n",
       "      <td>0</td>\n",
       "      <td>0</td>\n",
       "      <td>...</td>\n",
       "      <td>0</td>\n",
       "      <td>0</td>\n",
       "      <td>0</td>\n",
       "      <td>1</td>\n",
       "      <td>0</td>\n",
       "      <td>0</td>\n",
       "      <td>0</td>\n",
       "      <td>0</td>\n",
       "      <td>0</td>\n",
       "      <td>0</td>\n",
       "    </tr>\n",
       "    <tr>\n",
       "      <th>...</th>\n",
       "      <td>...</td>\n",
       "      <td>...</td>\n",
       "      <td>...</td>\n",
       "      <td>...</td>\n",
       "      <td>...</td>\n",
       "      <td>...</td>\n",
       "      <td>...</td>\n",
       "      <td>...</td>\n",
       "      <td>...</td>\n",
       "      <td>...</td>\n",
       "      <td>...</td>\n",
       "      <td>...</td>\n",
       "      <td>...</td>\n",
       "      <td>...</td>\n",
       "      <td>...</td>\n",
       "      <td>...</td>\n",
       "      <td>...</td>\n",
       "      <td>...</td>\n",
       "      <td>...</td>\n",
       "      <td>...</td>\n",
       "      <td>...</td>\n",
       "    </tr>\n",
       "    <tr>\n",
       "      <th>36983</th>\n",
       "      <td>45</td>\n",
       "      <td>9</td>\n",
       "      <td>49.33</td>\n",
       "      <td>45358.49</td>\n",
       "      <td>11.0</td>\n",
       "      <td>242.979625</td>\n",
       "      <td>0</td>\n",
       "      <td>1</td>\n",
       "      <td>0</td>\n",
       "      <td>1</td>\n",
       "      <td>...</td>\n",
       "      <td>0</td>\n",
       "      <td>0</td>\n",
       "      <td>1</td>\n",
       "      <td>0</td>\n",
       "      <td>0</td>\n",
       "      <td>0</td>\n",
       "      <td>0</td>\n",
       "      <td>0</td>\n",
       "      <td>0</td>\n",
       "      <td>0</td>\n",
       "    </tr>\n",
       "    <tr>\n",
       "      <th>36984</th>\n",
       "      <td>51</td>\n",
       "      <td>24</td>\n",
       "      <td>312.33</td>\n",
       "      <td>63446.71</td>\n",
       "      <td>2.0</td>\n",
       "      <td>778.700000</td>\n",
       "      <td>0</td>\n",
       "      <td>1</td>\n",
       "      <td>0</td>\n",
       "      <td>1</td>\n",
       "      <td>...</td>\n",
       "      <td>0</td>\n",
       "      <td>0</td>\n",
       "      <td>0</td>\n",
       "      <td>0</td>\n",
       "      <td>0</td>\n",
       "      <td>1</td>\n",
       "      <td>0</td>\n",
       "      <td>0</td>\n",
       "      <td>0</td>\n",
       "      <td>0</td>\n",
       "    </tr>\n",
       "    <tr>\n",
       "      <th>36985</th>\n",
       "      <td>12</td>\n",
       "      <td>13</td>\n",
       "      <td>418.38</td>\n",
       "      <td>56397.21</td>\n",
       "      <td>7.0</td>\n",
       "      <td>725.890000</td>\n",
       "      <td>1</td>\n",
       "      <td>0</td>\n",
       "      <td>0</td>\n",
       "      <td>0</td>\n",
       "      <td>...</td>\n",
       "      <td>1</td>\n",
       "      <td>0</td>\n",
       "      <td>0</td>\n",
       "      <td>0</td>\n",
       "      <td>0</td>\n",
       "      <td>1</td>\n",
       "      <td>0</td>\n",
       "      <td>0</td>\n",
       "      <td>0</td>\n",
       "      <td>0</td>\n",
       "    </tr>\n",
       "    <tr>\n",
       "      <th>36986</th>\n",
       "      <td>27</td>\n",
       "      <td>13</td>\n",
       "      <td>135.83</td>\n",
       "      <td>8225.68</td>\n",
       "      <td>16.0</td>\n",
       "      <td>748.570000</td>\n",
       "      <td>0</td>\n",
       "      <td>1</td>\n",
       "      <td>0</td>\n",
       "      <td>1</td>\n",
       "      <td>...</td>\n",
       "      <td>0</td>\n",
       "      <td>1</td>\n",
       "      <td>0</td>\n",
       "      <td>0</td>\n",
       "      <td>0</td>\n",
       "      <td>0</td>\n",
       "      <td>0</td>\n",
       "      <td>0</td>\n",
       "      <td>0</td>\n",
       "      <td>0</td>\n",
       "    </tr>\n",
       "    <tr>\n",
       "      <th>36990</th>\n",
       "      <td>53</td>\n",
       "      <td>15</td>\n",
       "      <td>482.61</td>\n",
       "      <td>2378.86</td>\n",
       "      <td>20.0</td>\n",
       "      <td>197.264414</td>\n",
       "      <td>0</td>\n",
       "      <td>1</td>\n",
       "      <td>0</td>\n",
       "      <td>0</td>\n",
       "      <td>...</td>\n",
       "      <td>0</td>\n",
       "      <td>1</td>\n",
       "      <td>0</td>\n",
       "      <td>0</td>\n",
       "      <td>0</td>\n",
       "      <td>0</td>\n",
       "      <td>0</td>\n",
       "      <td>0</td>\n",
       "      <td>0</td>\n",
       "      <td>0</td>\n",
       "    </tr>\n",
       "  </tbody>\n",
       "</table>\n",
       "<p>15927 rows × 48 columns</p>\n",
       "</div>"
      ],
      "text/plain": [
       "       age  days_since_last_login  avg_time_spent  avg_transaction_value  \\\n",
       "2       44                     14          516.16               21027.00   \n",
       "3       37                     11           53.27               25239.56   \n",
       "4       31                     20          113.13               24483.66   \n",
       "6       21                     10           55.38                8982.50   \n",
       "10      25                     14          570.23               35119.93   \n",
       "...    ...                    ...             ...                    ...   \n",
       "36983   45                      9           49.33               45358.49   \n",
       "36984   51                     24          312.33               63446.71   \n",
       "36985   12                     13          418.38               56397.21   \n",
       "36986   27                     13          135.83                8225.68   \n",
       "36990   53                     15          482.61                2378.86   \n",
       "\n",
       "       avg_frequency_login_days  points_in_wallet  gender_0  gender_1  \\\n",
       "2                          22.0        500.690000         1         0   \n",
       "3                           6.0        567.660000         0         1   \n",
       "4                          16.0        663.060000         1         0   \n",
       "6                          28.0        756.210000         0         1   \n",
       "10                          8.0        699.700000         1         0   \n",
       "...                         ...               ...       ...       ...   \n",
       "36983                      11.0        242.979625         0         1   \n",
       "36984                       2.0        778.700000         0         1   \n",
       "36985                       7.0        725.890000         1         0   \n",
       "36986                      16.0        748.570000         0         1   \n",
       "36990                      20.0        197.264414         0         1   \n",
       "\n",
       "       region_category_0  region_category_1  ...  complaint_status_4  \\\n",
       "2                      0                  1  ...                   0   \n",
       "3                      1                  0  ...                   1   \n",
       "4                      1                  0  ...                   0   \n",
       "6                      0                  1  ...                   0   \n",
       "10                     0                  0  ...                   0   \n",
       "...                  ...                ...  ...                 ...   \n",
       "36983                  0                  1  ...                   0   \n",
       "36984                  0                  1  ...                   0   \n",
       "36985                  0                  0  ...                   1   \n",
       "36986                  0                  1  ...                   0   \n",
       "36990                  0                  0  ...                   0   \n",
       "\n",
       "       feedback_0  feedback_1  feedback_2  feedback_3  feedback_4  feedback_5  \\\n",
       "2               0           0           0           1           0           0   \n",
       "3               0           0           0           1           0           0   \n",
       "4               0           0           0           1           0           0   \n",
       "6               1           0           0           0           0           0   \n",
       "10              0           0           1           0           0           0   \n",
       "...           ...         ...         ...         ...         ...         ...   \n",
       "36983           0           1           0           0           0           0   \n",
       "36984           0           0           0           0           1           0   \n",
       "36985           0           0           0           0           1           0   \n",
       "36986           1           0           0           0           0           0   \n",
       "36990           1           0           0           0           0           0   \n",
       "\n",
       "       feedback_6  feedback_7  feedback_8  \n",
       "2               0           0           0  \n",
       "3               0           0           0  \n",
       "4               0           0           0  \n",
       "6               0           0           0  \n",
       "10              0           0           0  \n",
       "...           ...         ...         ...  \n",
       "36983           0           0           0  \n",
       "36984           0           0           0  \n",
       "36985           0           0           0  \n",
       "36986           0           0           0  \n",
       "36990           0           0           0  \n",
       "\n",
       "[15927 rows x 48 columns]"
      ]
     },
     "execution_count": 47,
     "metadata": {},
     "output_type": "execute_result"
    }
   ],
   "source": [
    "X"
   ]
  },
  {
   "cell_type": "code",
   "execution_count": 48,
   "id": "b463b3e6",
   "metadata": {},
   "outputs": [
    {
     "name": "stdout",
     "output_type": "stream",
     "text": [
      "<class 'pandas.core.frame.DataFrame'>\n",
      "Int64Index: 15927 entries, 2 to 36990\n",
      "Data columns (total 48 columns):\n",
      " #   Column                          Non-Null Count  Dtype  \n",
      "---  ------                          --------------  -----  \n",
      " 0   age                             15927 non-null  int64  \n",
      " 1   days_since_last_login           15927 non-null  int64  \n",
      " 2   avg_time_spent                  15927 non-null  float64\n",
      " 3   avg_transaction_value           15927 non-null  float64\n",
      " 4   avg_frequency_login_days        15927 non-null  float64\n",
      " 5   points_in_wallet                15927 non-null  float64\n",
      " 6   gender_0                        15927 non-null  uint8  \n",
      " 7   gender_1                        15927 non-null  uint8  \n",
      " 8   region_category_0               15927 non-null  uint8  \n",
      " 9   region_category_1               15927 non-null  uint8  \n",
      " 10  region_category_2               15927 non-null  uint8  \n",
      " 11  membership_category_0           15927 non-null  uint8  \n",
      " 12  membership_category_1           15927 non-null  uint8  \n",
      " 13  membership_category_2           15927 non-null  uint8  \n",
      " 14  membership_category_3           15927 non-null  uint8  \n",
      " 15  membership_category_4           15927 non-null  uint8  \n",
      " 16  membership_category_5           15927 non-null  uint8  \n",
      " 17  joined_through_referral_0       15927 non-null  uint8  \n",
      " 18  joined_through_referral_1       15927 non-null  uint8  \n",
      " 19  preferred_offer_types_0         15927 non-null  uint8  \n",
      " 20  preferred_offer_types_1         15927 non-null  uint8  \n",
      " 21  preferred_offer_types_2         15927 non-null  uint8  \n",
      " 22  medium_of_operation_0           15927 non-null  uint8  \n",
      " 23  medium_of_operation_1           15927 non-null  uint8  \n",
      " 24  medium_of_operation_2           15927 non-null  uint8  \n",
      " 25  internet_option_0               15927 non-null  uint8  \n",
      " 26  internet_option_1               15927 non-null  uint8  \n",
      " 27  internet_option_2               15927 non-null  uint8  \n",
      " 28  used_special_discount_0         15927 non-null  uint8  \n",
      " 29  used_special_discount_1         15927 non-null  uint8  \n",
      " 30  offer_application_preference_0  15927 non-null  uint8  \n",
      " 31  offer_application_preference_1  15927 non-null  uint8  \n",
      " 32  past_complaint_0                15927 non-null  uint8  \n",
      " 33  past_complaint_1                15927 non-null  uint8  \n",
      " 34  complaint_status_0              15927 non-null  uint8  \n",
      " 35  complaint_status_1              15927 non-null  uint8  \n",
      " 36  complaint_status_2              15927 non-null  uint8  \n",
      " 37  complaint_status_3              15927 non-null  uint8  \n",
      " 38  complaint_status_4              15927 non-null  uint8  \n",
      " 39  feedback_0                      15927 non-null  uint8  \n",
      " 40  feedback_1                      15927 non-null  uint8  \n",
      " 41  feedback_2                      15927 non-null  uint8  \n",
      " 42  feedback_3                      15927 non-null  uint8  \n",
      " 43  feedback_4                      15927 non-null  uint8  \n",
      " 44  feedback_5                      15927 non-null  uint8  \n",
      " 45  feedback_6                      15927 non-null  uint8  \n",
      " 46  feedback_7                      15927 non-null  uint8  \n",
      " 47  feedback_8                      15927 non-null  uint8  \n",
      "dtypes: float64(4), int64(2), uint8(42)\n",
      "memory usage: 1.5 MB\n"
     ]
    }
   ],
   "source": [
    "X.info()"
   ]
  },
  {
   "cell_type": "markdown",
   "id": "f0be30bd",
   "metadata": {},
   "source": [
    "# MODELLING"
   ]
  },
  {
   "cell_type": "code",
   "execution_count": 49,
   "id": "6e5d6ca4",
   "metadata": {},
   "outputs": [],
   "source": [
    "list_m=[]"
   ]
  },
  {
   "cell_type": "markdown",
   "id": "465add5b",
   "metadata": {},
   "source": [
    "# Logistic Regression "
   ]
  },
  {
   "cell_type": "code",
   "execution_count": 50,
   "id": "129f808d",
   "metadata": {},
   "outputs": [],
   "source": [
    "X_train, X_test , y_train, y_test = train_test_split(X, y, test_size=0.2, random_state=63)"
   ]
  },
  {
   "cell_type": "code",
   "execution_count": 51,
   "id": "a63f8e2b",
   "metadata": {},
   "outputs": [
    {
     "data": {
      "text/plain": [
       "{'memory': None,\n",
       " 'steps': [('Classifier',\n",
       "   LogisticRegression(C=0.38566204211634725, penalty='l1', solver='liblinear'))],\n",
       " 'verbose': False,\n",
       " 'Classifier': LogisticRegression(C=0.38566204211634725, penalty='l1', solver='liblinear'),\n",
       " 'Classifier__C': 0.38566204211634725,\n",
       " 'Classifier__class_weight': None,\n",
       " 'Classifier__dual': False,\n",
       " 'Classifier__fit_intercept': True,\n",
       " 'Classifier__intercept_scaling': 1,\n",
       " 'Classifier__l1_ratio': None,\n",
       " 'Classifier__max_iter': 100,\n",
       " 'Classifier__multi_class': 'auto',\n",
       " 'Classifier__n_jobs': None,\n",
       " 'Classifier__penalty': 'l1',\n",
       " 'Classifier__random_state': None,\n",
       " 'Classifier__solver': 'liblinear',\n",
       " 'Classifier__tol': 0.0001,\n",
       " 'Classifier__verbose': 0,\n",
       " 'Classifier__warm_start': False}"
      ]
     },
     "execution_count": 51,
     "metadata": {},
     "output_type": "execute_result"
    }
   ],
   "source": [
    "pipe = Pipeline([('Classifier', LogisticRegression())])\n",
    "\n",
    "\n",
    "search_space = [{'Classifier': [LogisticRegression(solver='liblinear')],\n",
    "                 'Classifier__C': np.logspace(-4, 4, 30),\n",
    "                 'Classifier__penalty':['l1','l2']}]\n",
    "\n",
    "clf = GridSearchCV(pipe, search_space, cv=5, verbose=0)\n",
    "\n",
    "best_model = clf.fit(X_train, y_train)\n",
    "\n",
    "best_model.best_estimator_.get_params()"
   ]
  },
  {
   "cell_type": "code",
   "execution_count": 52,
   "id": "01a41da2",
   "metadata": {},
   "outputs": [
    {
     "data": {
      "text/plain": [
       "{'Classifier': LogisticRegression(C=0.38566204211634725, penalty='l1', solver='liblinear'),\n",
       " 'Classifier__C': 0.38566204211634725,\n",
       " 'Classifier__penalty': 'l1'}"
      ]
     },
     "execution_count": 52,
     "metadata": {},
     "output_type": "execute_result"
    }
   ],
   "source": [
    "best_model.best_params_"
   ]
  },
  {
   "cell_type": "code",
   "execution_count": 53,
   "id": "fdff8662",
   "metadata": {},
   "outputs": [
    {
     "name": "stdout",
     "output_type": "stream",
     "text": [
      "Accuracy: 0.9381669805398619\n"
     ]
    }
   ],
   "source": [
    "model=LogisticRegression(C=0.38566204211634725,penalty='l1',solver='liblinear')\n",
    "model.fit(X_train,y_train)\n",
    "y_pred=model.predict(X_test)\n",
    "print('Accuracy:', accuracy_score(y_test, y_pred))\n",
    "dic_log={}\n",
    "dic_log['name']='Logistic'\n",
    "dic_log['Accuracy']=accuracy_score(y_test, y_pred)\n",
    "dic_log['Precision']=precision_score(y_test, y_pred, average='weighted')\n",
    "dic_log['Re-call']=recall_score(y_test, y_pred, average='weighted')\n",
    "dic_log['F1-Score']=f1_score(y_test, y_pred, average='weighted')\n",
    "dic_log['Cohens-Kappa']=cohen_kappa_score(y_test, y_pred)\n",
    "dic_log['Mape']=mean_absolute_percentage_error(y_test, y_pred)\n",
    "list_m.append(dic_log)"
   ]
  },
  {
   "cell_type": "markdown",
   "id": "97a8e42a",
   "metadata": {},
   "source": [
    "# KNN"
   ]
  },
  {
   "cell_type": "code",
   "execution_count": 54,
   "id": "04261528",
   "metadata": {},
   "outputs": [],
   "source": [
    "X_train, X_test , y_train, y_test = train_test_split(X, y, test_size=0.2, random_state=63)"
   ]
  },
  {
   "cell_type": "code",
   "execution_count": 55,
   "id": "c4243f84",
   "metadata": {},
   "outputs": [
    {
     "data": {
      "text/plain": [
       "{'memory': None,\n",
       " 'steps': [('Classifier', KNeighborsClassifier(n_neighbors=3))],\n",
       " 'verbose': False,\n",
       " 'Classifier': KNeighborsClassifier(n_neighbors=3),\n",
       " 'Classifier__algorithm': 'auto',\n",
       " 'Classifier__leaf_size': 30,\n",
       " 'Classifier__metric': 'minkowski',\n",
       " 'Classifier__metric_params': None,\n",
       " 'Classifier__n_jobs': None,\n",
       " 'Classifier__n_neighbors': 3,\n",
       " 'Classifier__p': 2,\n",
       " 'Classifier__weights': 'uniform'}"
      ]
     },
     "execution_count": 55,
     "metadata": {},
     "output_type": "execute_result"
    }
   ],
   "source": [
    "pipe = Pipeline([('Classifier', KNeighborsClassifier())])\n",
    "\n",
    "\n",
    "search_space = [{'Classifier': [KNeighborsClassifier()],\n",
    "                 'Classifier__n_neighbors':[2,3,4,5,6]}]\n",
    "\n",
    "\n",
    "clf = GridSearchCV(pipe, search_space, cv=5, verbose=0)\n",
    "\n",
    "best_model = clf.fit(X_train, y_train)\n",
    "\n",
    "best_model.best_estimator_.get_params()"
   ]
  },
  {
   "cell_type": "code",
   "execution_count": 56,
   "id": "c86d370c",
   "metadata": {},
   "outputs": [
    {
     "data": {
      "text/plain": [
       "{'Classifier': KNeighborsClassifier(n_neighbors=3),\n",
       " 'Classifier__n_neighbors': 3}"
      ]
     },
     "execution_count": 56,
     "metadata": {},
     "output_type": "execute_result"
    }
   ],
   "source": [
    "best_model.best_params_"
   ]
  },
  {
   "cell_type": "code",
   "execution_count": 57,
   "id": "86d113cd",
   "metadata": {},
   "outputs": [
    {
     "name": "stdout",
     "output_type": "stream",
     "text": [
      "Accuracy: 0.7887633396107973\n"
     ]
    }
   ],
   "source": [
    "knn = KNeighborsClassifier(n_neighbors=3)\n",
    "knn.fit(X_train,y_train)\n",
    "y_pred=knn.predict(X_test)\n",
    "print('Accuracy:', accuracy_score(y_test, y_pred))\n",
    "dic_knn={}\n",
    "dic_knn['name']='KNN'\n",
    "dic_knn['Accuracy']=accuracy_score(y_test, y_pred)\n",
    "dic_knn['Precision']=precision_score(y_test, y_pred, average='weighted')\n",
    "dic_knn['Re-call']=recall_score(y_test, y_pred, average='weighted')\n",
    "dic_knn['F1-Score']=f1_score(y_test, y_pred, average='weighted')\n",
    "dic_knn['Cohens-Kappa']=cohen_kappa_score(y_test, y_pred)\n",
    "dic_knn['Mape']=mean_absolute_percentage_error(y_test, y_pred)\n",
    "list_m.append(dic_knn)"
   ]
  },
  {
   "cell_type": "markdown",
   "id": "da65cd3a",
   "metadata": {},
   "source": [
    "# Random Forest Classifier"
   ]
  },
  {
   "cell_type": "code",
   "execution_count": 58,
   "id": "2b5007fc",
   "metadata": {},
   "outputs": [],
   "source": [
    "X_train, X_test , y_train, y_test = train_test_split(X, y, test_size=0.2, random_state=63)"
   ]
  },
  {
   "cell_type": "code",
   "execution_count": 59,
   "id": "cdcb4990",
   "metadata": {},
   "outputs": [
    {
     "data": {
      "text/plain": [
       "{'memory': None,\n",
       " 'steps': [('Classifier',\n",
       "   RandomForestClassifier(max_features=7, random_state=63))],\n",
       " 'verbose': False,\n",
       " 'Classifier': RandomForestClassifier(max_features=7, random_state=63),\n",
       " 'Classifier__bootstrap': True,\n",
       " 'Classifier__ccp_alpha': 0.0,\n",
       " 'Classifier__class_weight': None,\n",
       " 'Classifier__criterion': 'gini',\n",
       " 'Classifier__max_depth': None,\n",
       " 'Classifier__max_features': 7,\n",
       " 'Classifier__max_leaf_nodes': None,\n",
       " 'Classifier__max_samples': None,\n",
       " 'Classifier__min_impurity_decrease': 0.0,\n",
       " 'Classifier__min_impurity_split': None,\n",
       " 'Classifier__min_samples_leaf': 1,\n",
       " 'Classifier__min_samples_split': 2,\n",
       " 'Classifier__min_weight_fraction_leaf': 0.0,\n",
       " 'Classifier__n_estimators': 100,\n",
       " 'Classifier__n_jobs': None,\n",
       " 'Classifier__oob_score': False,\n",
       " 'Classifier__random_state': 63,\n",
       " 'Classifier__verbose': 0,\n",
       " 'Classifier__warm_start': False}"
      ]
     },
     "execution_count": 59,
     "metadata": {},
     "output_type": "execute_result"
    }
   ],
   "source": [
    "pipe = Pipeline([('Classifier', RandomForestClassifier())])\n",
    "\n",
    "\n",
    "search_space = [{'Classifier': [RandomForestClassifier(random_state=63)],\n",
    "                 'Classifier__n_estimators': [100, 200,300,400,500,600],\n",
    "                 'Classifier__max_features': [3,4,5,6,7]}]\n",
    "\n",
    "\n",
    "clf = GridSearchCV(pipe, search_space, cv=5, verbose=0)\n",
    "\n",
    "best_model = clf.fit(X_train, y_train)\n",
    "\n",
    "best_model.best_estimator_.get_params()"
   ]
  },
  {
   "cell_type": "code",
   "execution_count": 60,
   "id": "4bcb501c",
   "metadata": {},
   "outputs": [
    {
     "data": {
      "text/plain": [
       "{'Classifier': RandomForestClassifier(max_features=7, random_state=63),\n",
       " 'Classifier__max_features': 7,\n",
       " 'Classifier__n_estimators': 100}"
      ]
     },
     "execution_count": 60,
     "metadata": {},
     "output_type": "execute_result"
    }
   ],
   "source": [
    "best_model.best_params_"
   ]
  },
  {
   "cell_type": "code",
   "execution_count": 61,
   "id": "b8b89164",
   "metadata": {},
   "outputs": [
    {
     "name": "stdout",
     "output_type": "stream",
     "text": [
      "Accuracy: 0.9573132454488387\n"
     ]
    }
   ],
   "source": [
    "clf=RandomForestClassifier(random_state=63,n_estimators=100,max_features=7)\n",
    "clf.fit(X_train,y_train)\n",
    "y_pred=clf.predict(X_test)\n",
    "print('Accuracy:', accuracy_score(y_test, y_pred))\n",
    "dic_rnd={}\n",
    "dic_rnd['name']='Random Forest'\n",
    "dic_rnd['Accuracy']=accuracy_score(y_test, y_pred)\n",
    "dic_rnd['Precision']=precision_score(y_test, y_pred, average='weighted')\n",
    "dic_rnd['Re-call']=recall_score(y_test, y_pred, average='weighted')\n",
    "dic_rnd['F1-Score']=f1_score(y_test, y_pred, average='weighted')\n",
    "dic_rnd['Cohens-Kappa']=cohen_kappa_score(y_test, y_pred)\n",
    "dic_rnd['Mape']=mean_absolute_percentage_error(y_test, y_pred)\n",
    "list_m.append(dic_rnd)"
   ]
  },
  {
   "cell_type": "markdown",
   "id": "93806992",
   "metadata": {},
   "source": [
    "# Decision Tree Classifier"
   ]
  },
  {
   "cell_type": "code",
   "execution_count": 62,
   "id": "8a67a60d",
   "metadata": {},
   "outputs": [],
   "source": [
    "X_train, X_test, y_train, y_test = train_test_split(X, y, test_size=0.20, random_state=63)"
   ]
  },
  {
   "cell_type": "code",
   "execution_count": 63,
   "id": "48b61fab",
   "metadata": {},
   "outputs": [
    {
     "data": {
      "text/plain": [
       "{'memory': None,\n",
       " 'steps': [('Classifier',\n",
       "   DecisionTreeClassifier(max_depth=7, min_samples_leaf=3))],\n",
       " 'verbose': False,\n",
       " 'Classifier': DecisionTreeClassifier(max_depth=7, min_samples_leaf=3),\n",
       " 'Classifier__ccp_alpha': 0.0,\n",
       " 'Classifier__class_weight': None,\n",
       " 'Classifier__criterion': 'gini',\n",
       " 'Classifier__max_depth': 7,\n",
       " 'Classifier__max_features': None,\n",
       " 'Classifier__max_leaf_nodes': None,\n",
       " 'Classifier__min_impurity_decrease': 0.0,\n",
       " 'Classifier__min_impurity_split': None,\n",
       " 'Classifier__min_samples_leaf': 3,\n",
       " 'Classifier__min_samples_split': 2,\n",
       " 'Classifier__min_weight_fraction_leaf': 0.0,\n",
       " 'Classifier__random_state': None,\n",
       " 'Classifier__splitter': 'best'}"
      ]
     },
     "execution_count": 63,
     "metadata": {},
     "output_type": "execute_result"
    }
   ],
   "source": [
    "pipe = Pipeline([('Classifier', DecisionTreeClassifier())])\n",
    "\n",
    "\n",
    "search_space = {\n",
    "    'Classifier__max_depth': [3, 5, 7],\n",
    "    'Classifier__min_samples_split': [2, 4, 6],\n",
    "    'Classifier__min_samples_leaf': [1, 2, 3]\n",
    "}\n",
    "\n",
    "clf = GridSearchCV(pipe, search_space, cv=5, verbose=0)\n",
    "\n",
    "best_model = clf.fit(X_train, y_train)\n",
    "\n",
    "best_model.best_estimator_.get_params()"
   ]
  },
  {
   "cell_type": "code",
   "execution_count": 64,
   "id": "0de23e95",
   "metadata": {},
   "outputs": [],
   "source": [
    "clf = DecisionTreeClassifier(max_depth=7, min_samples_split=2, min_samples_leaf=3)\n",
    "clf.fit(X_train,y_train)\n",
    "predictions = model.predict(X_test)\n",
    "clf.score(X_test,y_test)\n",
    "dic_dct={}\n",
    "dic_dct['name']='Decision Tree'\n",
    "dic_dct['Accuracy']=accuracy_score(y_test, y_pred)\n",
    "dic_dct['Precision']=precision_score(y_test, y_pred, average='weighted')\n",
    "dic_dct['Re-call']=recall_score(y_test, y_pred, average='weighted')\n",
    "dic_dct['F1-Score']=f1_score(y_test, y_pred, average='weighted')\n",
    "dic_dct['Cohens-Kappa']=cohen_kappa_score(y_test, y_pred)\n",
    "dic_dct['Mape']=mean_absolute_percentage_error(y_test, y_pred)\n",
    "list_m.append(dic_dct)"
   ]
  },
  {
   "cell_type": "markdown",
   "id": "fc6e4120",
   "metadata": {},
   "source": [
    "# Naive Bayes Classifier"
   ]
  },
  {
   "cell_type": "code",
   "execution_count": 65,
   "id": "01ac4f86",
   "metadata": {
    "scrolled": false
   },
   "outputs": [
    {
     "name": "stdout",
     "output_type": "stream",
     "text": [
      "Fitting 5 folds for each of 8 candidates, totalling 40 fits\n",
      "[CV] END ....................classifier__var_smoothing=1e-09; total time=   0.0s\n",
      "[CV] END ....................classifier__var_smoothing=1e-09; total time=   0.0s\n",
      "[CV] END ....................classifier__var_smoothing=1e-09; total time=   0.0s\n",
      "[CV] END ....................classifier__var_smoothing=1e-09; total time=   0.0s\n",
      "[CV] END ....................classifier__var_smoothing=1e-09; total time=   0.0s\n",
      "[CV] END ....................classifier__var_smoothing=1e-08; total time=   0.0s\n",
      "[CV] END ....................classifier__var_smoothing=1e-08; total time=   0.0s\n",
      "[CV] END ....................classifier__var_smoothing=1e-08; total time=   0.0s\n",
      "[CV] END ....................classifier__var_smoothing=1e-08; total time=   0.0s\n",
      "[CV] END ....................classifier__var_smoothing=1e-08; total time=   0.0s\n",
      "[CV] END ....................classifier__var_smoothing=1e-07; total time=   0.0s\n",
      "[CV] END ....................classifier__var_smoothing=1e-07; total time=   0.0s\n",
      "[CV] END ....................classifier__var_smoothing=1e-07; total time=   0.0s\n",
      "[CV] END ....................classifier__var_smoothing=1e-07; total time=   0.0s\n",
      "[CV] END ....................classifier__var_smoothing=1e-07; total time=   0.0s\n",
      "[CV] END ....................classifier__var_smoothing=1e-06; total time=   0.0s\n",
      "[CV] END ....................classifier__var_smoothing=1e-06; total time=   0.0s\n",
      "[CV] END ....................classifier__var_smoothing=1e-06; total time=   0.0s\n",
      "[CV] END ....................classifier__var_smoothing=1e-06; total time=   0.0s\n",
      "[CV] END ....................classifier__var_smoothing=1e-06; total time=   0.0s\n",
      "[CV] END ....................classifier__var_smoothing=1e-05; total time=   0.0s\n",
      "[CV] END ....................classifier__var_smoothing=1e-05; total time=   0.0s\n",
      "[CV] END ....................classifier__var_smoothing=1e-05; total time=   0.0s\n",
      "[CV] END ....................classifier__var_smoothing=1e-05; total time=   0.0s\n",
      "[CV] END ....................classifier__var_smoothing=1e-05; total time=   0.0s\n",
      "[CV] END ...................classifier__var_smoothing=0.0001; total time=   0.0s\n",
      "[CV] END ...................classifier__var_smoothing=0.0001; total time=   0.0s\n",
      "[CV] END ...................classifier__var_smoothing=0.0001; total time=   0.0s\n",
      "[CV] END ...................classifier__var_smoothing=0.0001; total time=   0.0s\n",
      "[CV] END ...................classifier__var_smoothing=0.0001; total time=   0.0s\n",
      "[CV] END ....................classifier__var_smoothing=0.001; total time=   0.0s\n",
      "[CV] END ....................classifier__var_smoothing=0.001; total time=   0.0s\n",
      "[CV] END ....................classifier__var_smoothing=0.001; total time=   0.0s\n",
      "[CV] END ....................classifier__var_smoothing=0.001; total time=   0.0s\n",
      "[CV] END ....................classifier__var_smoothing=0.001; total time=   0.0s\n",
      "[CV] END .....................classifier__var_smoothing=0.01; total time=   0.0s\n",
      "[CV] END .....................classifier__var_smoothing=0.01; total time=   0.0s\n",
      "[CV] END .....................classifier__var_smoothing=0.01; total time=   0.0s\n",
      "[CV] END .....................classifier__var_smoothing=0.01; total time=   0.0s\n",
      "[CV] END .....................classifier__var_smoothing=0.01; total time=   0.0s\n"
     ]
    },
    {
     "data": {
      "text/plain": [
       "GridSearchCV(cv=5, estimator=Pipeline(steps=[('classifier', GaussianNB())]),\n",
       "             param_grid={'classifier__var_smoothing': [1e-09, 1e-08, 1e-07,\n",
       "                                                       1e-06, 1e-05, 0.0001,\n",
       "                                                       0.001, 0.01]},\n",
       "             scoring='accuracy', verbose=2)"
      ]
     },
     "execution_count": 65,
     "metadata": {},
     "output_type": "execute_result"
    }
   ],
   "source": [
    "X_train, X_test , y_train, y_test = train_test_split(X, y, test_size=0.2, random_state=63)\n",
    "pipe=Pipeline([('classifier', GaussianNB())])\n",
    "search_space = {\n",
    "    'classifier__var_smoothing': [1e-9, 1e-8, 1e-7, 1e-6, 1e-5, 1e-4, 1e-3, 1e-2]\n",
    "}\n",
    "grid = GridSearchCV(pipe,search_space,refit=True,verbose=2,scoring='accuracy',cv=5)\n",
    "grid.fit(X_train,y_train)"
   ]
  },
  {
   "cell_type": "code",
   "execution_count": 66,
   "id": "d73d87ea",
   "metadata": {},
   "outputs": [
    {
     "data": {
      "text/plain": [
       "{'classifier__var_smoothing': 1e-09}"
      ]
     },
     "execution_count": 66,
     "metadata": {},
     "output_type": "execute_result"
    }
   ],
   "source": [
    "grid.best_params_"
   ]
  },
  {
   "cell_type": "code",
   "execution_count": 67,
   "id": "f46056d3",
   "metadata": {},
   "outputs": [
    {
     "name": "stdout",
     "output_type": "stream",
     "text": [
      "Accuracy: 0.8166980539861896\n"
     ]
    }
   ],
   "source": [
    "clf=GaussianNB(var_smoothing= 1e-09)\n",
    "clf.fit(X_train,y_train)\n",
    "y_pred=clf.predict(X_test)\n",
    "print('Accuracy:', accuracy_score(y_test, y_pred))\n",
    "dic_nbc={}\n",
    "dic_nbc['name']='Naive Bayes'\n",
    "dic_nbc['Accuracy']=accuracy_score(y_test, y_pred)\n",
    "dic_nbc['Precision']=precision_score(y_test, y_pred, average='weighted')\n",
    "dic_nbc['Precision']=precision_score(y_test, y_pred, average='weighted')\n",
    "dic_nbc['Re-call']=recall_score(y_test, y_pred, average='weighted')\n",
    "dic_nbc['F1-Score']=f1_score(y_test, y_pred, average='weighted')\n",
    "dic_nbc['Cohens-Kappa']=cohen_kappa_score(y_test, y_pred)\n",
    "dic_nbc['Mape']=mean_absolute_percentage_error(y_test, y_pred)\n",
    "list_m.append(dic_nbc)"
   ]
  },
  {
   "cell_type": "markdown",
   "id": "a1691c32",
   "metadata": {},
   "source": [
    "# EVALUATION"
   ]
  },
  {
   "cell_type": "code",
   "execution_count": 68,
   "id": "6b9c4346",
   "metadata": {},
   "outputs": [
    {
     "data": {
      "text/html": [
       "<div>\n",
       "<style scoped>\n",
       "    .dataframe tbody tr th:only-of-type {\n",
       "        vertical-align: middle;\n",
       "    }\n",
       "\n",
       "    .dataframe tbody tr th {\n",
       "        vertical-align: top;\n",
       "    }\n",
       "\n",
       "    .dataframe thead th {\n",
       "        text-align: right;\n",
       "    }\n",
       "</style>\n",
       "<table border=\"1\" class=\"dataframe\">\n",
       "  <thead>\n",
       "    <tr style=\"text-align: right;\">\n",
       "      <th></th>\n",
       "      <th>name</th>\n",
       "      <th>Accuracy</th>\n",
       "      <th>Precision</th>\n",
       "      <th>Re-call</th>\n",
       "      <th>F1-Score</th>\n",
       "      <th>Cohens-Kappa</th>\n",
       "      <th>Mape</th>\n",
       "    </tr>\n",
       "  </thead>\n",
       "  <tbody>\n",
       "    <tr>\n",
       "      <th>0</th>\n",
       "      <td>Logistic</td>\n",
       "      <td>0.938167</td>\n",
       "      <td>0.938945</td>\n",
       "      <td>0.938167</td>\n",
       "      <td>0.938255</td>\n",
       "      <td>0.875602</td>\n",
       "      <td>9.894914e+13</td>\n",
       "    </tr>\n",
       "    <tr>\n",
       "      <th>1</th>\n",
       "      <td>KNN</td>\n",
       "      <td>0.788763</td>\n",
       "      <td>0.788411</td>\n",
       "      <td>0.788763</td>\n",
       "      <td>0.788429</td>\n",
       "      <td>0.572362</td>\n",
       "      <td>5.074678e+14</td>\n",
       "    </tr>\n",
       "    <tr>\n",
       "      <th>2</th>\n",
       "      <td>Random Forest</td>\n",
       "      <td>0.957313</td>\n",
       "      <td>0.958120</td>\n",
       "      <td>0.957313</td>\n",
       "      <td>0.957376</td>\n",
       "      <td>0.914137</td>\n",
       "      <td>5.371525e+13</td>\n",
       "    </tr>\n",
       "    <tr>\n",
       "      <th>3</th>\n",
       "      <td>Decision Tree</td>\n",
       "      <td>0.957313</td>\n",
       "      <td>0.958120</td>\n",
       "      <td>0.957313</td>\n",
       "      <td>0.957376</td>\n",
       "      <td>0.914137</td>\n",
       "      <td>5.371525e+13</td>\n",
       "    </tr>\n",
       "    <tr>\n",
       "      <th>4</th>\n",
       "      <td>Naive Bayes</td>\n",
       "      <td>0.816698</td>\n",
       "      <td>0.836393</td>\n",
       "      <td>0.816698</td>\n",
       "      <td>0.810918</td>\n",
       "      <td>0.620213</td>\n",
       "      <td>7.081932e+14</td>\n",
       "    </tr>\n",
       "  </tbody>\n",
       "</table>\n",
       "</div>"
      ],
      "text/plain": [
       "            name  Accuracy  Precision   Re-call  F1-Score  Cohens-Kappa  \\\n",
       "0       Logistic  0.938167   0.938945  0.938167  0.938255      0.875602   \n",
       "1            KNN  0.788763   0.788411  0.788763  0.788429      0.572362   \n",
       "2  Random Forest  0.957313   0.958120  0.957313  0.957376      0.914137   \n",
       "3  Decision Tree  0.957313   0.958120  0.957313  0.957376      0.914137   \n",
       "4    Naive Bayes  0.816698   0.836393  0.816698  0.810918      0.620213   \n",
       "\n",
       "           Mape  \n",
       "0  9.894914e+13  \n",
       "1  5.074678e+14  \n",
       "2  5.371525e+13  \n",
       "3  5.371525e+13  \n",
       "4  7.081932e+14  "
      ]
     },
     "execution_count": 68,
     "metadata": {},
     "output_type": "execute_result"
    }
   ],
   "source": [
    "results=pd.DataFrame(list_m)\n",
    "results"
   ]
  },
  {
   "cell_type": "code",
   "execution_count": null,
   "id": "82f419b9",
   "metadata": {},
   "outputs": [],
   "source": []
  }
 ],
 "metadata": {
  "kernelspec": {
   "display_name": "Python 3 (ipykernel)",
   "language": "python",
   "name": "python3"
  },
  "language_info": {
   "codemirror_mode": {
    "name": "ipython",
    "version": 3
   },
   "file_extension": ".py",
   "mimetype": "text/x-python",
   "name": "python",
   "nbconvert_exporter": "python",
   "pygments_lexer": "ipython3",
   "version": "3.9.7"
  }
 },
 "nbformat": 4,
 "nbformat_minor": 5
}
